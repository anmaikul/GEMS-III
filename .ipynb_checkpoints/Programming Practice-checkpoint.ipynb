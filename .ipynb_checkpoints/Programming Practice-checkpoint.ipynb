{
 "cells": [
  {
   "cell_type": "markdown",
   "metadata": {
    "slideshow": {
     "slide_type": "slide"
    }
   },
   "source": [
    "\n",
    "# Summer Institute: Programming Practice in Python"
   ]
  },
  {
   "cell_type": "markdown",
   "metadata": {
    "slideshow": {
     "slide_type": "skip"
    }
   },
   "source": [
    "%%html\n",
    "<script>\n",
    "    var code_show=true; //true -> hide code at first\n",
    "\n",
    "    function code_toggle() {\n",
    "        //$('div.prompt').hide(); // always hide prompt\n",
    "\n",
    "        if (code_show){\n",
    "            $('div.input').hide();\n",
    "        } else {\n",
    "            $('div.input').show();\n",
    "        }\n",
    "        code_show = !code_show\n",
    "    }\n",
    "</script>\n",
    "\n",
    "<a href=\"javascript:code_toggle()\">[Toggle Code]</a"
   ]
  },
  {
   "cell_type": "code",
   "execution_count": 1,
   "metadata": {
    "slideshow": {
     "slide_type": "notes"
    }
   },
   "outputs": [
    {
     "ename": "SyntaxError",
     "evalue": "invalid syntax (<ipython-input-1-961c8a397f52>, line 1)",
     "output_type": "error",
     "traceback": [
      "\u001b[0;36m  File \u001b[0;32m\"<ipython-input-1-961c8a397f52>\"\u001b[0;36m, line \u001b[0;32m1\u001b[0m\n\u001b[0;31m    Go through some examples of cool things\u001b[0m\n\u001b[0m             ^\u001b[0m\n\u001b[0;31mSyntaxError\u001b[0m\u001b[0;31m:\u001b[0m invalid syntax\n"
     ]
    }
   ],
   "source": [
    "Go through some examples of cool things"
   ]
  },
  {
   "cell_type": "markdown",
   "metadata": {
    "slideshow": {
     "slide_type": "slide"
    }
   },
   "source": [
    "# What is programming?\n",
    "\n",
    "Human writes a set of instructions --> Computer executes those instructions \n",
    "\n",
    "### The programming language \n",
    "\n",
    "...because you can't just type anything and expect the computer to perform the action. \n",
    "\n",
    "e.g. Computer, take these files and count the number of words in each!\n"
   ]
  },
  {
   "cell_type": "markdown",
   "metadata": {
    "slideshow": {
     "slide_type": "subslide"
    }
   },
   "source": [
    "\n",
    "### The programmer's job:\n",
    "To translate this task into a set of instructions that the computer can perform one by one.\n",
    "\n",
    "### So what's a programming language?\n",
    "\n",
    "In a nutshell, a set of rules (syntax, and semantics), for how you should write these instructions. \n",
    "\n"
   ]
  },
  {
   "cell_type": "markdown",
   "metadata": {
    "slideshow": {
     "slide_type": "subslide"
    }
   },
   "source": [
    "## An analogy: human languages\n",
    "\n",
    "I love dogs. \n",
    "\n",
    "I dogs love. (나는 개를 좋아합니다 - Korean characters) \n",
    "\n",
    "## Programming languages\n",
    "\n",
    "`print \"Testing the print statement\"` - *Python*\n",
    "\n",
    "`System.out.println(\"Testing the print statement\")` - *Java*"
   ]
  },
  {
   "cell_type": "markdown",
   "metadata": {
    "slideshow": {
     "slide_type": "slide"
    }
   },
   "source": [
    "## The language - Python\n",
    "\n",
    "<center><img src=\"https://ee5817f8e2e9a2e34042-3365e7f0719651e5b8d0979bce83c558.ssl.cf5.rackcdn.com/python.png\" width=\"20%\"></center>\n",
    "\n",
    "A general purpose programming language. Can do many, many things with it:\n",
    "1. Power websites on the server\n",
    "2. Work with data, do calculations, and graph results\n",
    "3. Scripting - automate tasks. (e.g. do image processing over many images in a directory)\n"
   ]
  },
  {
   "cell_type": "markdown",
   "metadata": {
    "slideshow": {
     "slide_type": "slide"
    }
   },
   "source": [
    "\n",
    "### Before we start, let's familiarize ourselves with the ** Interactive Development Environment (IDE)**\n",
    "\n",
    "An IDE is a program that computer programmers use to write and edit code.\n",
    "\n",
    "Micosoft Word, Google Docs for writing text documents.\n",
    "\n",
    "IDE for writing code.\n"
   ]
  },
  {
   "cell_type": "markdown",
   "metadata": {
    "slideshow": {
     "slide_type": "fragment"
    }
   },
   "source": [
    "It also has a lot of useful tools unique for coding:\n",
    "* A debugger to stop your code at specific lines to inspect what's going on.\n",
    "* An inspector where you can see the variables defined in your codem and what the values are"
   ]
  },
  {
   "cell_type": "markdown",
   "metadata": {
    "slideshow": {
     "slide_type": "subslide"
    }
   },
   "source": [
    "## Spyder - An IDE for Scientific Computing And Data Analysis\n",
    "\n",
    "<center><img src=\"https://upload.wikimedia.org/wikipedia/commons/7/7e/Spyder_logo.svg\" width=\"30%\"></center> \n",
    "  \n",
    "Open a terminal window.\n",
    "\n",
    "In the prompt, simply type `spyder`, press enter.\n"
   ]
  },
  {
   "cell_type": "markdown",
   "metadata": {
    "slideshow": {
     "slide_type": "slide"
    }
   },
   "source": [
    "# Review of Python Syntax\n",
    "\n"
   ]
  },
  {
   "cell_type": "markdown",
   "metadata": {
    "slideshow": {
     "slide_type": "fragment"
    }
   },
   "source": [
    "## Variables - an ID for a particular piece of data\n",
    "   *Think of it like an address.*\n",
    "   \n",
    "   <center><img src=\"addresses.svg\" width=\"50%\"></center>\n",
    "   \n",
    "   * Your home address is not your actual house, but it identifies where you live. \n",
    "   \n",
    "   * A variable identifies a stored value.\n",
    "\n"
   ]
  },
  {
   "cell_type": "markdown",
   "metadata": {
    "slideshow": {
     "slide_type": "slide"
    }
   },
   "source": [
    "# A variable can hold many types of data.\n",
    "\n",
    "## Variable Types\n",
    "\n",
    "* Numbers (integers, decimal real numbers)\n",
    "* Strings (of characters)\n",
    "* Booleans (True or False)\n",
    "* Objects\n",
    "* Lists\n",
    "...\n",
    "\n"
   ]
  },
  {
   "cell_type": "markdown",
   "metadata": {
    "slideshow": {
     "slide_type": "fragment"
    }
   },
   "source": [
    "## Numbers\n",
    "\n",
    "Integers - {..., -3, -2, -1, 0, 1, 2, 3, ...}\n",
    "\n",
    "Floating point numbers"
   ]
  },
  {
   "cell_type": "code",
   "execution_count": 2,
   "metadata": {
    "scrolled": false,
    "slideshow": {
     "slide_type": "-"
    }
   },
   "outputs": [
    {
     "name": "stdout",
     "output_type": "stream",
     "text": [
      "15.1\n",
      "20\n"
     ]
    }
   ],
   "source": [
    "price = 15.10\n",
    "print price\n",
    "\n",
    "# change the value of price\n",
    "price = 20\n",
    "print price\n"
   ]
  },
  {
   "cell_type": "markdown",
   "metadata": {
    "slideshow": {
     "slide_type": "subslide"
    }
   },
   "source": [
    "## You can compute something, and **then** store the result\n",
    "\n"
   ]
  },
  {
   "cell_type": "code",
   "execution_count": 3,
   "metadata": {
    "slideshow": {
     "slide_type": "-"
    }
   },
   "outputs": [
    {
     "name": "stdout",
     "output_type": "stream",
     "text": [
      "11.95\n"
     ]
    }
   ],
   "source": [
    "candy_price = 1.99\n",
    "eggs_price = 2.99\n",
    "\n",
    "total_price = 3*candy_price + 2*eggs_price\n",
    "print total_price"
   ]
  },
  {
   "cell_type": "markdown",
   "metadata": {
    "slideshow": {
     "slide_type": "slide"
    }
   },
   "source": [
    "# Variable Types\n",
    "\n"
   ]
  },
  {
   "cell_type": "markdown",
   "metadata": {
    "slideshow": {
     "slide_type": "fragment"
    }
   },
   "source": [
    "## Strings\n",
    "\n",
    "A sequence of characters, forming a \"string\" of text. "
   ]
  },
  {
   "cell_type": "code",
   "execution_count": 4,
   "metadata": {},
   "outputs": [
    {
     "name": "stdout",
     "output_type": "stream",
     "text": [
      "This is a 'test'\n"
     ]
    }
   ],
   "source": [
    "sample_string = 'This is a \\'test\\''\n",
    "print sample_string"
   ]
  },
  {
   "cell_type": "markdown",
   "metadata": {
    "slideshow": {
     "slide_type": "subslide"
    }
   },
   "source": [
    "Text doesn't just include ABCs and numbers. Can include end of line / paragraph markers, tabs, etc.\n",
    "\n"
   ]
  },
  {
   "cell_type": "markdown",
   "metadata": {
    "slideshow": {
     "slide_type": "fragment"
    }
   },
   "source": [
    "Escape characters: `\\t`, `\\n`\n",
    "\n",
    "**The \"\\\" says that what follows is not just any letter, but means something special**\n"
   ]
  },
  {
   "cell_type": "markdown",
   "metadata": {
    "slideshow": {
     "slide_type": "subslide"
    }
   },
   "source": [
    "### Multi-line strings"
   ]
  },
  {
   "cell_type": "code",
   "execution_count": 5,
   "metadata": {
    "scrolled": true
   },
   "outputs": [
    {
     "name": "stdout",
     "output_type": "stream",
     "text": [
      "Mike\t An\n",
      "next line\n",
      "and another line\n"
     ]
    }
   ],
   "source": [
    "name = '''Mike\\t An\n",
    "next line\n",
    "and another line'''\n",
    "print name"
   ]
  },
  {
   "cell_type": "markdown",
   "metadata": {
    "slideshow": {
     "slide_type": "subslide"
    }
   },
   "source": [
    "### Can concatenate strings into a new string\n"
   ]
  },
  {
   "cell_type": "code",
   "execution_count": 6,
   "metadata": {
    "slideshow": {
     "slide_type": "fragment"
    }
   },
   "outputs": [
    {
     "name": "stdout",
     "output_type": "stream",
     "text": [
      "Mike An is here!\n"
     ]
    }
   ],
   "source": [
    "\n",
    "last_name = 'An'\n",
    "first_name = 'Mike'\n",
    "name = first_name + ' ' + last_name + ' ' + 'is here!'\n",
    "print name"
   ]
  },
  {
   "cell_type": "markdown",
   "metadata": {
    "collapsed": true,
    "slideshow": {
     "slide_type": "subslide"
    }
   },
   "source": [
    "### Difference between \"10\" and the number 10\n",
    "\n",
    "To us humans, a string \"10\" and the number 10 seems like the same. But, in a programming language, they are different!\n",
    "\n"
   ]
  },
  {
   "cell_type": "code",
   "execution_count": 7,
   "metadata": {},
   "outputs": [
    {
     "ename": "TypeError",
     "evalue": "cannot concatenate 'str' and 'int' objects",
     "output_type": "error",
     "traceback": [
      "\u001b[0;31m---------------------------------------------------------------------------\u001b[0m",
      "\u001b[0;31mTypeError\u001b[0m                                 Traceback (most recent call last)",
      "\u001b[0;32m<ipython-input-7-212f7bbd3901>\u001b[0m in \u001b[0;36m<module>\u001b[0;34m()\u001b[0m\n\u001b[0;32m----> 1\u001b[0;31m \u001b[0mvalue\u001b[0m \u001b[0;34m=\u001b[0m \u001b[0;34m'10'\u001b[0m \u001b[0;34m+\u001b[0m \u001b[0;36m1\u001b[0m\u001b[0;34m\u001b[0m\u001b[0m\n\u001b[0m",
      "\u001b[0;31mTypeError\u001b[0m: cannot concatenate 'str' and 'int' objects"
     ]
    }
   ],
   "source": [
    "value = '10' + 1"
   ]
  },
  {
   "cell_type": "markdown",
   "metadata": {
    "slideshow": {
     "slide_type": "fragment"
    }
   },
   "source": [
    "You're often given numbers as strings. \n",
    "\n",
    "(for example, from a text file, or a spreadsheet)\n",
    "\n",
    "Convert the string to a `float` first, and then use it.\n",
    "Sometimes called \"casting\": Changing from one data type to another."
   ]
  },
  {
   "cell_type": "markdown",
   "metadata": {
    "slideshow": {
     "slide_type": "subslide"
    }
   },
   "source": [
    "## Booleans\n",
    "\n",
    "A boolean value can be one of two values: `true` or `false`\n",
    "\n",
    "\n",
    "\n"
   ]
  },
  {
   "cell_type": "markdown",
   "metadata": {
    "slideshow": {
     "slide_type": "fragment"
    }
   },
   "source": [
    "Important for computers to make logical decisions.\n",
    "\n",
    "For example: Do I run the next line of code, or skip it? "
   ]
  },
  {
   "cell_type": "code",
   "execution_count": null,
   "metadata": {
    "collapsed": true,
    "slideshow": {
     "slide_type": "fragment"
    }
   },
   "outputs": [],
   "source": [
    "should_print = False\n",
    "\n",
    "if should_print is True:\n",
    "    print \"We should print!\"\n",
    "    "
   ]
  },
  {
   "cell_type": "markdown",
   "metadata": {},
   "source": [
    "## Booleans are useful to answer the question:\n",
    "\n",
    "Is a set of conditions satisfied or not?\n",
    "\n",
    "To see how this works, let's quickly talk about algebra!\n",
    "\n",
    "## Algebra\n",
    "\n",
    "Different operators: $+$, $-$, $*$, $/$\n",
    "\n",
    "\n"
   ]
  },
  {
   "cell_type": "code",
   "execution_count": null,
   "metadata": {},
   "outputs": [],
   "source": [
    "4 + 3 * 2"
   ]
  },
  {
   "cell_type": "markdown",
   "metadata": {},
   "source": [
    "### Boolean Algebra (a bit different from what you learned in school)\n",
    "\n",
    "Instead of the usual operators, Logical Operators: `and`, `or`"
   ]
  },
  {
   "cell_type": "markdown",
   "metadata": {},
   "source": [
    "Scenario: Checklist to determine if you're ready to go to school\n",
    "\n",
    "Did you...\n",
    "\n",
    "1. Eat breakfast?\n",
    "2. Pack last night's homework?\n",
    "3. Bring books and materials?\n",
    "4. Pack stuff for after school activity (instrument, sports gear)?\n",
    "\n",
    "When you did all the above, you're ready to go to school\n",
    "\n"
   ]
  },
  {
   "cell_type": "markdown",
   "metadata": {},
   "source": [
    "When ...\n",
    "\n",
    "`1` is `True` `and` `2` is `True` `and` `3` is `True` `and` `4` is `True`, \n",
    "\n",
    "it means you're ready to go to school \n"
   ]
  },
  {
   "cell_type": "code",
   "execution_count": null,
   "metadata": {},
   "outputs": [],
   "source": [
    "True and False\n",
    "\n",
    "#Going on a long trip abroad!\n",
    "toilettries_packed = True\n",
    "passport_packed = True\n",
    "mail_delivery_stopped = True\n",
    "\n",
    "ready_to_go = toilettries_packed and passport_packed and mail_delivery_stopped\n",
    "\n",
    "print ready_to_go\n",
    "\n"
   ]
  },
  {
   "cell_type": "code",
   "execution_count": null,
   "metadata": {},
   "outputs": [],
   "source": [
    "cellphone_packed = False\n",
    "away_voicemessage_set = False\n",
    "\n",
    "ready_to_go = (toilettries_packed and passport_packed and mail_delivery_stopped and \n",
    " (away_message_set or cellphone_packed))\n",
    "\n",
    "print ready_to_go"
   ]
  },
  {
   "cell_type": "markdown",
   "metadata": {
    "slideshow": {
     "slide_type": "slide"
    }
   },
   "source": [
    "# More Advanced Structures\n",
    "\n",
    "\n",
    "\n"
   ]
  },
  {
   "cell_type": "markdown",
   "metadata": {
    "slideshow": {
     "slide_type": "fragment"
    }
   },
   "source": [
    "## Lists\n",
    "\n",
    "A collection of items.\n",
    "**Ordered** collection."
   ]
  },
  {
   "cell_type": "code",
   "execution_count": null,
   "metadata": {
    "collapsed": true,
    "slideshow": {
     "slide_type": "fragment"
    }
   },
   "outputs": [],
   "source": [
    "my_list = [6,3,5,10,2]\n",
    "print my_list"
   ]
  },
  {
   "cell_type": "code",
   "execution_count": null,
   "metadata": {
    "slideshow": {
     "slide_type": "fragment"
    }
   },
   "outputs": [],
   "source": [
    "my_list = ['apple', 'orange', 'banana']\n",
    "print my_list\n",
    "\n",
    "print my_list[0]"
   ]
  },
  {
   "cell_type": "code",
   "execution_count": null,
   "metadata": {
    "slideshow": {
     "slide_type": "notes"
    }
   },
   "outputs": [],
   "source": [
    "indexing\n",
    "mixing data types"
   ]
  },
  {
   "cell_type": "markdown",
   "metadata": {
    "slideshow": {
     "slide_type": "slide"
    }
   },
   "source": [
    "## Accessing items in a list (indexing)\n",
    "\n",
    "\n",
    "Use [ ] with the index number inside.\n",
    "\n",
    "**Important**: Indices start at 0, not 1!\n"
   ]
  },
  {
   "cell_type": "code",
   "execution_count": null,
   "metadata": {},
   "outputs": [],
   "source": [
    "my_list = [6,3,5,10,2]\n",
    "\n",
    "print my_list[1]"
   ]
  },
  {
   "cell_type": "markdown",
   "metadata": {
    "slideshow": {
     "slide_type": "slide"
    }
   },
   "source": [
    "# More Advanced Structures\n",
    "\n",
    "## Dictionary\n",
    "\n",
    "A collection, where each item (or value) can be identified by a **unique** ID (or key).\n",
    "\n",
    "\n"
   ]
  },
  {
   "cell_type": "markdown",
   "metadata": {
    "slideshow": {
     "slide_type": "fragment"
    }
   },
   "source": [
    "<center><img src=\"dictionary_pic.svg\" width=\"30%\"></center>\n"
   ]
  },
  {
   "cell_type": "code",
   "execution_count": null,
   "metadata": {
    "slideshow": {
     "slide_type": "fragment"
    }
   },
   "outputs": [],
   "source": [
    "customer_info = {\n",
    "    '140320': {'email': 'mike@email.com', 'name': 'Michael An', 'address': '12345 Paradise Road, Los Angeles, CA'},\n",
    "    '204950': {'email': 'mary@yahoo.com', 'name': 'Mary Smith', 'address': '45 Main St, New York, NY'}\n",
    "}\n",
    "\n",
    "print customer_info[140320]"
   ]
  },
  {
   "cell_type": "markdown",
   "metadata": {
    "slideshow": {
     "slide_type": "subslide"
    }
   },
   "source": [
    "Dictionary IDs don't have to be numbers though. For example, can be strings too."
   ]
  },
  {
   "cell_type": "markdown",
   "metadata": {
    "slideshow": {
     "slide_type": "fragment"
    }
   },
   "source": [
    "Ideally, want to look things up in a collection based on *relevant* identifiers that make sense."
   ]
  },
  {
   "cell_type": "code",
   "execution_count": null,
   "metadata": {
    "slideshow": {
     "slide_type": "fragment"
    }
   },
   "outputs": [],
   "source": [
    "fruit_costs = {'apple': .99, 'orange': 1.29, 'banana': 1.99}\n",
    "\n",
    "fruit_costs['apple']"
   ]
  },
  {
   "cell_type": "markdown",
   "metadata": {
    "slideshow": {
     "slide_type": "fragment"
    }
   },
   "source": [
    "Another example: An actual dictionary! \n",
    "\n",
    "Mapping (Unique) words -> definitions\n",
    "\n",
    "### _**Would you want to look up a word in the dictionary by an ID number?**_"
   ]
  },
  {
   "cell_type": "markdown",
   "metadata": {
    "slideshow": {
     "slide_type": "skip"
    }
   },
   "source": [
    "Maybe: \n",
    "\n",
    "## Quiz: What's the best structure to use, list, dictionary, or tuple?"
   ]
  },
  {
   "cell_type": "markdown",
   "metadata": {
    "slideshow": {
     "slide_type": "slide"
    }
   },
   "source": [
    "# Functions\n",
    "\n",
    "A function is a unit of code that <span style=\"color: green\">**takes in**</span> some values, uses it to compute / run some instructions, and (often) <span style=\"color: blue\">**gives back a result**</span>.\n",
    "\n",
    "First, Let's look at a math function:\n",
    "\n",
    "<center><img src=\"function.svg\" width=\"40%\"></center>\n",
    "\n",
    "**Given** a value $x$, we compute the expression on the right using $x$, and the result is $f(x)$.\n",
    "\n",
    "\n",
    "\n"
   ]
  },
  {
   "cell_type": "markdown",
   "metadata": {
    "slideshow": {
     "slide_type": "fragment"
    }
   },
   "source": [
    "### A Python function:"
   ]
  },
  {
   "cell_type": "code",
   "execution_count": null,
   "metadata": {
    "collapsed": true,
    "slideshow": {
     "slide_type": "fragment"
    }
   },
   "outputs": [],
   "source": [
    "def x_squared(x):\n",
    "    result = x**2\n",
    "    return result"
   ]
  },
  {
   "cell_type": "markdown",
   "metadata": {
    "slideshow": {
     "slide_type": "subslide"
    }
   },
   "source": [
    "## Important parts of a function:"
   ]
  },
  {
   "cell_type": "markdown",
   "metadata": {
    "slideshow": {
     "slide_type": "fragment"
    }
   },
   "source": [
    "```python\n",
    "def x_squared(x):\n",
    "```\n",
    "\n",
    "* `def` tells Python that are you **def**ining a function\n",
    "* `x_squared` is the name of the function\n",
    "* ( ...  ) is the arguments (what the function takes in)"
   ]
  },
  {
   "cell_type": "markdown",
   "metadata": {
    "slideshow": {
     "slide_type": "fragment"
    }
   },
   "source": [
    "```python\n",
    "return result\n",
    "```\n",
    "\n",
    "The function will give back the result\n"
   ]
  },
  {
   "cell_type": "markdown",
   "metadata": {
    "slideshow": {
     "slide_type": "subslide"
    }
   },
   "source": [
    "Note: Unlike in math, in most programming languages, a function does not *have* to return a result. It can just take a value, and do something with it. A function doesn't always have to give something back.\n",
    "\n",
    "A function doesn't have to be related to a math calculation. "
   ]
  },
  {
   "cell_type": "markdown",
   "metadata": {
    "slideshow": {
     "slide_type": "subslide"
    }
   },
   "source": [
    "### Calling a function\n",
    "\n",
    "We defined a function, but, we have to *call* the function to run the code.\n",
    "\n",
    "You call a function by **passing in** values, the $x$."
   ]
  },
  {
   "cell_type": "code",
   "execution_count": null,
   "metadata": {
    "slideshow": {
     "slide_type": "fragment"
    }
   },
   "outputs": [],
   "source": [
    "x_squared(6)"
   ]
  },
  {
   "cell_type": "markdown",
   "metadata": {
    "slideshow": {
     "slide_type": "subslide"
    }
   },
   "source": [
    "## Lets look at a function that doesn't involve math\n",
    "\n",
    "A function that gives back a greeting in several languages."
   ]
  },
  {
   "cell_type": "code",
   "execution_count": null,
   "metadata": {
    "collapsed": true,
    "slideshow": {
     "slide_type": "fragment"
    }
   },
   "outputs": [],
   "source": [
    "# lang is one of {'es', 'en', 'fr', 'ch', 'jp'}\n",
    "def say_hello_in(lang, name):\n",
    "    greetings = ({'es': u'Hola', \n",
    "                  'en': u'Hello', \n",
    "                  'fr': u'Bonjour',\n",
    "                  'ch': u'你好', \n",
    "                  'jp': u'こんにちは'})\n",
    "    return \"%s %s!\" % (greetings[lang], name)"
   ]
  },
  {
   "cell_type": "code",
   "execution_count": null,
   "metadata": {
    "slideshow": {
     "slide_type": "fragment"
    }
   },
   "outputs": [],
   "source": [
    "print say_hello_in('fr', 'Michael')"
   ]
  },
  {
   "cell_type": "markdown",
   "metadata": {
    "slideshow": {
     "slide_type": "subslide"
    }
   },
   "source": [
    "## Why write functions?"
   ]
  },
  {
   "cell_type": "markdown",
   "metadata": {},
   "source": [
    "* Seperating code into understandable parts\n",
    "* Code reuse - Use your function somewhere else, or give it to your friend to use \n"
   ]
  },
  {
   "cell_type": "markdown",
   "metadata": {
    "slideshow": {
     "slide_type": "subslide"
    }
   },
   "source": [
    "## Built-in Functions\n",
    "\n",
    "Python has a lot of functions that are predefined to make your life easier. \n",
    "\n",
    "`len` - Given a list, return the number of items in it\n",
    "`round` - Given a number, return the value, but rounded to the nearest integer"
   ]
  },
  {
   "cell_type": "markdown",
   "metadata": {
    "slideshow": {
     "slide_type": "fragment"
    }
   },
   "source": [
    "## How do we know how to use a given function?\n",
    "\n",
    "We need to know what **exactly** the function takes in, and what it gives back (returns)."
   ]
  },
  {
   "cell_type": "markdown",
   "metadata": {
    "slideshow": {
     "slide_type": "fragment"
    }
   },
   "source": [
    "## Help function to the rescue!"
   ]
  },
  {
   "cell_type": "markdown",
   "metadata": {
    "slideshow": {
     "slide_type": "fragment"
    }
   },
   "source": [
    "`help` is itself another function!\n",
    "\n",
    "It takes in a function (name). It gives you back a description of what that does, and possibly examples of how you can use it.\n"
   ]
  },
  {
   "cell_type": "markdown",
   "metadata": {
    "slideshow": {
     "slide_type": "subslide"
    }
   },
   "source": [
    "# Exercise: Look up info on the `range` function. Try to see how it works, then use it to create a list of integers from 5 to 10."
   ]
  },
  {
   "cell_type": "code",
   "execution_count": null,
   "metadata": {},
   "outputs": [],
   "source": [
    "help(range)"
   ]
  },
  {
   "cell_type": "markdown",
   "metadata": {
    "slideshow": {
     "slide_type": "subslide"
    }
   },
   "source": [
    "# Remember: You can always use google to search for what you want to know!"
   ]
  },
  {
   "cell_type": "markdown",
   "metadata": {
    "slideshow": {
     "slide_type": "slide"
    }
   },
   "source": [
    "# Modules\n",
    "\n",
    "Combines a bunch of related variables and functions into a package.\n"
   ]
  },
  {
   "cell_type": "markdown",
   "metadata": {
    "slideshow": {
     "slide_type": "fragment"
    }
   },
   "source": [
    "Example: the `math` module - A collection of different math functions and variables:\n",
    "\n",
    "* `abs` - absolute value\n",
    "* `cos`, `sin` - trigonometric functions\n",
    "* `pi` - $\\pi$\n",
    "\n"
   ]
  },
  {
   "cell_type": "markdown",
   "metadata": {
    "slideshow": {
     "slide_type": "subslide"
    }
   },
   "source": [
    "## How to use a module\n",
    "\n",
    "To use them, you have to **import** the package:\n",
    "\n",
    "```python \n",
    "import math```\n"
   ]
  },
  {
   "cell_type": "code",
   "execution_count": null,
   "metadata": {
    "collapsed": true,
    "slideshow": {
     "slide_type": "-"
    }
   },
   "outputs": [],
   "source": []
  },
  {
   "cell_type": "markdown",
   "metadata": {
    "slideshow": {
     "slide_type": "subslide"
    }
   },
   "source": [
    "## Function import\n",
    "\n",
    "Can also import just a select function from a module:"
   ]
  },
  {
   "cell_type": "code",
   "execution_count": null,
   "metadata": {
    "slideshow": {
     "slide_type": "fragment"
    }
   },
   "outputs": [],
   "source": [
    "from math import cos, pi\n",
    "\n",
    "print cos(pi)\n",
    "\n",
    "print math.cos(math.pi)"
   ]
  },
  {
   "cell_type": "markdown",
   "metadata": {
    "slideshow": {
     "slide_type": "slide"
    }
   },
   "source": [
    "# Good coding style\n",
    "\n",
    "Writing a computer program can be a lot like writing an essay. Good organization and style are *very* important!\n"
   ]
  },
  {
   "cell_type": "markdown",
   "metadata": {
    "slideshow": {
     "slide_type": "fragment"
    }
   },
   "source": [
    "## Question: What do you guys think makes a good essay?"
   ]
  },
  {
   "cell_type": "markdown",
   "metadata": {},
   "source": [
    "Some of my thoughts:\n",
    "\n",
    "* It has an introduction, body, and conclusion.\n",
    "* Each paragraph expresses / explains **one** idea coherently, instead of a bunch of random thoughts.\n",
    "* Use specific word choices to convey ideas clearly, rather than vague ones, or unnecessarily fancy words.\n"
   ]
  },
  {
   "cell_type": "markdown",
   "metadata": {
    "slideshow": {
     "slide_type": "fragment"
    }
   },
   "source": [
    "## Comments\n",
    "\n",
    "If a piece of code could use some clarification, write comments!"
   ]
  },
  {
   "cell_type": "code",
   "execution_count": null,
   "metadata": {
    "collapsed": true,
    "slideshow": {
     "slide_type": "skip"
    }
   },
   "outputs": [],
   "source": [
    "pt_1 = (1,4)\n",
    "pt_2 = (3,5)\n",
    "pt_3 = (1,1)"
   ]
  },
  {
   "cell_type": "code",
   "execution_count": null,
   "metadata": {
    "collapsed": true,
    "slideshow": {
     "slide_type": "fragment"
    }
   },
   "outputs": [],
   "source": [
    "a = (pt_2[1] - pt_1[1]) / (pt_2[0] - pt_1[0])"
   ]
  },
  {
   "cell_type": "markdown",
   "metadata": {},
   "source": [
    "### vs"
   ]
  },
  {
   "cell_type": "code",
   "execution_count": null,
   "metadata": {
    "collapsed": true,
    "slideshow": {
     "slide_type": "fragment"
    }
   },
   "outputs": [],
   "source": [
    "# computes slope from pt_1 & pt_2\n",
    "# formula m = (y2-y1) / (x2-x1)\n",
    "a = (pt_2[1] - pt_1[1]) / (pt_2[0] - pt_1[0])"
   ]
  },
  {
   "cell_type": "markdown",
   "metadata": {
    "slideshow": {
     "slide_type": "subslide"
    }
   },
   "source": [
    "### Comments on functions show other users how it can be used!\n",
    "\n",
    "Comment on function arguments, function return values. What exactly does it take in and what exactly does it return? "
   ]
  },
  {
   "cell_type": "code",
   "execution_count": null,
   "metadata": {
    "collapsed": true,
    "slideshow": {
     "slide_type": "fragment"
    }
   },
   "outputs": [],
   "source": [
    "def my_function(a, b):\n",
    "    \n",
    "    if type(a) in (int, float, long):\n",
    "        return [a] * b\n",
    "    return a * b"
   ]
  },
  {
   "cell_type": "code",
   "execution_count": null,
   "metadata": {
    "collapsed": true,
    "slideshow": {
     "slide_type": "subslide"
    }
   },
   "outputs": [],
   "source": [
    "def my_function(a, b):\n",
    "    \"\"\"\n",
    "    Replicates a number, string, or list a given number of times\n",
    "    \n",
    "    a - a number, string, or list to replicate\n",
    "    b - an integer > 0, for the number of replications\n",
    "    \n",
    "    >>> my_function(2, 3)\n",
    "    222\n",
    "    >>> my_function('a', 5)\n",
    "    'aaaaa'    \n",
    "    \"\"\"\n",
    "    \n",
    "    if type(a) in (int, float, long):\n",
    "        return [a] * b\n",
    "    return a * b"
   ]
  },
  {
   "cell_type": "code",
   "execution_count": null,
   "metadata": {
    "slideshow": {
     "slide_type": "fragment"
    }
   },
   "outputs": [],
   "source": [
    "print my_function([1, 2, 4], 3)\n",
    "print my_function(4, 3)\n",
    "print my_function('test', 5)"
   ]
  },
  {
   "cell_type": "markdown",
   "metadata": {
    "slideshow": {
     "slide_type": "subslide"
    }
   },
   "source": [
    "## Variable names\n",
    "\n",
    "Clear, descriptive variable names are preferable to vague ones.\n",
    "\n",
    "Don't be lazy, and think about how to name!"
   ]
  },
  {
   "cell_type": "code",
   "execution_count": null,
   "metadata": {
    "collapsed": true,
    "slideshow": {
     "slide_type": "fragment"
    }
   },
   "outputs": [],
   "source": [
    "c = {'ap': .99, 'or': 1.29, 'ban': 1.99}\n",
    "\n",
    "c['ap']"
   ]
  },
  {
   "cell_type": "code",
   "execution_count": null,
   "metadata": {
    "collapsed": true,
    "slideshow": {
     "slide_type": "fragment"
    }
   },
   "outputs": [],
   "source": [
    "fruit_costs = {'apple': .99, 'orange': 1.29, 'banana': 1.99}\n",
    "\n",
    "fruit_costs['apple']"
   ]
  },
  {
   "cell_type": "code",
   "execution_count": null,
   "metadata": {
    "collapsed": true,
    "slideshow": {
     "slide_type": "skip"
    }
   },
   "outputs": [],
   "source": [
    "## Functions shouldn't do too much. Do one well defined thing, and do it well.\n",
    "\n"
   ]
  },
  {
   "cell_type": "markdown",
   "metadata": {
    "slideshow": {
     "slide_type": "subslide"
    }
   },
   "source": [
    "## Don't Repeat Yourself\n",
    "\n",
    "If you are writing very similar code multiple times, try to write the code *once* as a function. Reuse this function instead of rewriting the same code."
   ]
  },
  {
   "cell_type": "code",
   "execution_count": null,
   "metadata": {
    "slideshow": {
     "slide_type": "fragment"
    }
   },
   "outputs": [],
   "source": [
    "## Compute the sum of some values in several lists\n",
    "\n",
    "number_list_1 = [1, 6, 10, 12, 6, 3]\n",
    "\n",
    "sum_1 = 0\n",
    "for num in number_list_1:\n",
    "    sum_1 += num\n",
    "\n",
    "number_list_2 = [1, 2, 3, 4]\n",
    "\n",
    "sum_2 = 0\n",
    "for num in number_list_2:\n",
    "    sum_2 += num\n",
    "\n",
    "number_list_3 = [10,3,54,2,18]\n",
    "\n",
    "sum_3 = 0\n",
    "for num in number_list_3:\n",
    "    sum_3 += num\n",
    "\n",
    "print sum_1, sum_2, sum_3"
   ]
  },
  {
   "cell_type": "code",
   "execution_count": null,
   "metadata": {
    "collapsed": true,
    "slideshow": {
     "slide_type": "subslide"
    }
   },
   "outputs": [],
   "source": [
    "def sum_of_list(number_list):\n",
    "    list_sum = 0\n",
    "    for num in number_list:\n",
    "        list_sum += num\n",
    "    return list_sum"
   ]
  },
  {
   "cell_type": "code",
   "execution_count": null,
   "metadata": {
    "slideshow": {
     "slide_type": "subslide"
    }
   },
   "outputs": [],
   "source": [
    "number_list_1 = [1, 6, 10, 12, 6, 3]\n",
    "number_list_2 = [1, 2, 3, 4]\n",
    "number_list_3 = [10,3,54,2,18]\n",
    "\n",
    "sum_1 = sum_of_list(number_list_1)\n",
    "sum_2 = sum_of_list(number_list_2)\n",
    "sum_2 = sum_of_list(number_list_3)\n",
    "\n",
    "print sum_1, sum_2, sum_3"
   ]
  },
  {
   "cell_type": "code",
   "execution_count": null,
   "metadata": {
    "slideshow": {
     "slide_type": "notes"
    }
   },
   "outputs": [],
   "source": [
    "organizing code, general function case, and computing the specific sums"
   ]
  },
  {
   "cell_type": "code",
   "execution_count": null,
   "metadata": {
    "slideshow": {
     "slide_type": "slide"
    }
   },
   "outputs": [],
   "source": [
    "from IPython.display import HTML, Javascript, display\n",
    "\n",
    "js = open('chalkboard.js').read()\n",
    "display(Javascript(js))"
   ]
  },
  {
   "cell_type": "markdown",
   "metadata": {
    "slideshow": {
     "slide_type": "slide"
    }
   },
   "source": [
    "# Let's write some code! \n",
    "\n"
   ]
  },
  {
   "cell_type": "markdown",
   "metadata": {
    "slideshow": {
     "slide_type": "slide"
    }
   },
   "source": [
    "# Coding exercise\n",
    "\n",
    "In this exercise, we will write code that works with temperature values. We will do temperature conversions, compute temperature ranges, compute other values using temperature values.\n",
    "\n",
    "A step by step process to apply everything you've learned.\n",
    "\n",
    "Recall, we can convert from Farenheit to Celsius using the formula:\n",
    "\n",
    "$$ C = \\frac{5}{9} (F - 32) $$"
   ]
  },
  {
   "cell_type": "markdown",
   "metadata": {
    "slideshow": {
     "slide_type": "subslide"
    }
   },
   "source": [
    "## First, start off by writing code to ask the user for a temperature value, and save the value as a floating point number.\n",
    "\n",
    "\n"
   ]
  },
  {
   "cell_type": "code",
   "execution_count": null,
   "metadata": {
    "collapsed": true,
    "slideshow": {
     "slide_type": "fragment"
    }
   },
   "outputs": [],
   "source": [
    "F = float(input(\"Input the temperature in degrees Farenheit:\"))\n",
    "\n",
    "print F"
   ]
  },
  {
   "cell_type": "markdown",
   "metadata": {
    "slideshow": {
     "slide_type": "subslide"
    }
   },
   "source": [
    "## Convert the Farenheit value to Celsius, and save this value\n",
    "\n",
    "Recall, we can convert from Farenheit to Celsius using the formula:\n",
    "\n",
    "$$ C = \\frac{5}{9} (F - 32) $$"
   ]
  },
  {
   "cell_type": "code",
   "execution_count": null,
   "metadata": {
    "collapsed": true,
    "slideshow": {
     "slide_type": "fragment"
    }
   },
   "outputs": [],
   "source": [
    "C = (F-32.0)*(5.0/9.0)\n",
    "print C"
   ]
  },
  {
   "cell_type": "markdown",
   "metadata": {
    "slideshow": {
     "slide_type": "subslide"
    }
   },
   "source": [
    "## Write the code you wrote as a function. It should take in a temperature value in Farenheit, and give back the corresponding value in Celsius."
   ]
  },
  {
   "cell_type": "markdown",
   "metadata": {
    "slideshow": {
     "slide_type": "subslide"
    }
   },
   "source": [
    "## Build in some error checking. Check that the input is a valid number, and prompt until you get something valid. \n"
   ]
  },
  {
   "cell_type": "markdown",
   "metadata": {
    "slideshow": {
     "slide_type": "subslide"
    }
   },
   "source": [
    "## Let's now ask the user for two temperature values. We will compute a series of temperatures between the two values, at a certain interval, $\\Delta t$, inclusive.\n"
   ]
  },
  {
   "cell_type": "markdown",
   "metadata": {
    "slideshow": {
     "slide_type": "subslide"
    }
   },
   "source": [
    "## Ask the user for a $\\Delta t$. For example, with 0 degrees starting and 10 degrees ending, with  $\\Delta t=2$, we have the following temperature values\n",
    "\n",
    "$$ [0,2,4,6,8,10]$$\n",
    "\n"
   ]
  },
  {
   "cell_type": "markdown",
   "metadata": {
    "slideshow": {
     "slide_type": "subslide"
    }
   },
   "source": [
    "## Now, do some error checking. \n",
    "\n",
    "* The two temperatures should be valid numbers, and the first value should be smaller than the second value. \n",
    "* $\\Delta t$ must be greater than 0, and must be smaller than the interval defined by the two temperature values."
   ]
  },
  {
   "cell_type": "markdown",
   "metadata": {
    "slideshow": {
     "slide_type": "subslide"
    }
   },
   "source": [
    "## Compute all the temperature values at each $\\Delta t$, and save it in a list.\n",
    "\n"
   ]
  },
  {
   "cell_type": "markdown",
   "metadata": {
    "slideshow": {
     "slide_type": "subslide"
    }
   },
   "source": [
    "## Remember, these temperatures are in Farenheit. Let's compute **all** the corresponding temperatures in Celsius, and save this as well."
   ]
  },
  {
   "cell_type": "markdown",
   "metadata": {
    "slideshow": {
     "slide_type": "subslide"
    }
   },
   "source": [
    "## Plot the Celsius values vs Farenheit values, using the plot function in the **matplotlib** module.\n",
    "\n",
    "Remember: You need to import a module to use it's functions.\n",
    "\n",
    "Use \n",
    "```python \n",
    "help(matplotlib.plot)\n",
    "```\n",
    "\n",
    "to learn how to use the plot function.\n"
   ]
  },
  {
   "cell_type": "markdown",
   "metadata": {
    "slideshow": {
     "slide_type": "subslide"
    }
   },
   "source": [
    "## Print this to a table, by using the tabulate function in the **tabulate** module.\n",
    "\n",
    "Again, find out how this function is used. What options are avaiable? Call the functions with the right arguments and options to get a nice, pretty table"
   ]
  },
  {
   "cell_type": "markdown",
   "metadata": {
    "slideshow": {
     "slide_type": "subslide"
    }
   },
   "source": [
    "## Now, let's compute Wind Chill\n",
    "\n",
    "Wind chill - An \"adjusted\" temperature value that accounts for heat loss due to the flow of air over your body.\n",
    "\n",
    "$$T_{chill}=13.12+0.6215*T_a-11.37*V^{0.16}+0.3965*T_a*V^{0.16}$$"
   ]
  },
  {
   "cell_type": "markdown",
   "metadata": {
    "slideshow": {
     "slide_type": "fragment"
    }
   },
   "source": [
    "$V$ - wind velocity, in km/h, \n",
    "\n",
    "$T_a$ - actual temperature in Celsius\n"
   ]
  },
  {
   "cell_type": "markdown",
   "metadata": {
    "slideshow": {
     "slide_type": "fragment"
    }
   },
   "source": [
    "Write a function that computes the wind chill for a range of temperature, wind velocity values. Use functions that you wrote previously when appropriate.\n",
    "\n",
    "How do you store the collection of values?"
   ]
  },
  {
   "cell_type": "code",
   "execution_count": null,
   "metadata": {
    "collapsed": true,
    "slideshow": {
     "slide_type": "fragment"
    }
   },
   "outputs": [],
   "source": [
    "import pandas\n",
    "from tabulate import tabulate\n",
    "\n",
    "print tabulate(pandas.DataFrame.from_items([('A', [1, 2, 3]), ('B', [4, 5, 6])]), tablefmt='orgtbl')"
   ]
  },
  {
   "cell_type": "code",
   "execution_count": null,
   "metadata": {
    "collapsed": true,
    "slideshow": {
     "slide_type": "skip"
    }
   },
   "outputs": [],
   "source": [
    "print \"The temperature in Celcius is: \", ('%.3f' % C)\n",
    "\n",
    "print(\"Temperature: {F} Fahrenheit = {C} Celsius\".format(F= F, C=C))\n",
    "print (F, \"degrees Fahrenheit = \" ,C, \"degrees Celsius.\")"
   ]
  },
  {
   "cell_type": "markdown",
   "metadata": {
    "slideshow": {
     "slide_type": "skip"
    }
   },
   "source": [
    "Rock Paper Scissors Game\n",
    "Hangman\n",
    "Guess the Number\n",
    "Decoding a message with a key."
   ]
  },
  {
   "cell_type": "markdown",
   "metadata": {
    "slideshow": {
     "slide_type": "slide"
    }
   },
   "source": [
    "# Programming Challenges\n",
    "\n",
    "Let's do some more programming exercises"
   ]
  },
  {
   "cell_type": "markdown",
   "metadata": {
    "slideshow": {
     "slide_type": "slide"
    }
   },
   "source": [
    "# Challenge 1\n",
    "\n",
    "Write a program that asks for a quadratic function, $f(x)= ax^2+bx+c$, and then finds the zeros of it using the quadratic equation. \n"
   ]
  },
  {
   "cell_type": "markdown",
   "metadata": {
    "slideshow": {
     "slide_type": "fragment"
    }
   },
   "source": [
    "Think about:\n",
    "\n",
    "How do you \"ask\" for the quadratic function from the user?"
   ]
  },
  {
   "cell_type": "markdown",
   "metadata": {
    "slideshow": {
     "slide_type": "fragment"
    }
   },
   "source": [
    "What information do you need to be able to compute the zeros?\n"
   ]
  },
  {
   "cell_type": "markdown",
   "metadata": {
    "slideshow": {
     "slide_type": "fragment"
    }
   },
   "source": [
    "The program should check for special cases. For example, for what situations is there no zero?\n"
   ]
  },
  {
   "cell_type": "markdown",
   "metadata": {
    "slideshow": {
     "slide_type": "fragment"
    }
   },
   "source": [
    "Write at least a part of your code as a function. What should go in the function, and what should not?"
   ]
  },
  {
   "cell_type": "markdown",
   "metadata": {
    "slideshow": {
     "slide_type": "slide"
    }
   },
   "source": [
    "# Challenge 2\n",
    "\n",
    "Modify your code from challenge 1 to deal to be able to find real **and** complex zeros.\n"
   ]
  },
  {
   "cell_type": "markdown",
   "metadata": {
    "slideshow": {
     "slide_type": "fragment"
    }
   },
   "source": [
    "Think about:\n",
    "\n",
    "What kinds of data structures would help with being able to represent both a real and complex number?"
   ]
  },
  {
   "cell_type": "markdown",
   "metadata": {
    "slideshow": {
     "slide_type": "slide"
    }
   },
   "source": [
    "# Challenge 3\n",
    "\n",
    "Write a Python program that, given a whole number $n$ greater than 0 and a symbol, prints a series of lines. The first line sould contain one symbol, the next 2 symbols, all the way to $n$ symbols, and then going in reverse. For example, if $n=5$, and $symbol=A$, the program should print\n",
    "\n",
    "A <br />\n",
    "A A <br />\n",
    "A A A <br />\n",
    "A A A A <br />\n",
    "A A A A A <br />\n",
    "A A A A <br />\n",
    "A A A <br />\n",
    "A A <br />\n",
    "A <br />\n",
    "\n",
    "Write this as a function."
   ]
  },
  {
   "cell_type": "markdown",
   "metadata": {
    "slideshow": {
     "slide_type": "slide"
    }
   },
   "source": [
    "# Challenge 4\n",
    "\n",
    "Write a program that takes in a string that should represent a password, and determines if the password is strong enough. A strong password here is characterized by:\n",
    "\n",
    "* Containing at least 8 characters, but no more than 12\n",
    "* Containing at least one digit\n",
    "* Containing at least one special character: !, @, #\n",
    "\n",
    "Again, write your code as a function.\n"
   ]
  },
  {
   "cell_type": "markdown",
   "metadata": {
    "collapsed": true,
    "slideshow": {
     "slide_type": "skip"
    }
   },
   "source": [
    "# Challenge 5\n",
    "\n",
    "Write a function that counts how many upper and lower case letters there are in a string.\n",
    "\n",
    "Program to find the frequency of words in a string."
   ]
  },
  {
   "cell_type": "markdown",
   "metadata": {
    "slideshow": {
     "slide_type": "skip"
    }
   },
   "source": [
    "# Sorting"
   ]
  },
  {
   "cell_type": "code",
   "execution_count": null,
   "metadata": {
    "scrolled": true,
    "slideshow": {
     "slide_type": "slide"
    }
   },
   "outputs": [],
   "source": [
    "from IPython.display import HTML, Javascript, display\n",
    "js = open('chalkboard.js').read()\n",
    "display(Javascript(js))"
   ]
  },
  {
   "cell_type": "markdown",
   "metadata": {
    "slideshow": {
     "slide_type": "skip"
    }
   },
   "source": [
    "# Functional Programming\n",
    "\n",
    "From a list of numbers, produce a graph. Needs to pass in a list, and a function, and it applies it across all values\n"
   ]
  },
  {
   "cell_type": "code",
   "execution_count": null,
   "metadata": {
    "collapsed": true,
    "slideshow": {
     "slide_type": "skip"
    }
   },
   "outputs": [],
   "source": [
    "print 'こんにちは', ' Mike'\n",
    "print 'Здравствуйте', ' Mike'"
   ]
  }
 ],
 "metadata": {
  "anaconda-cloud": {},
  "celltoolbar": "Slideshow",
  "kernelspec": {
   "display_name": "Python [default]",
   "language": "python",
   "name": "python2"
  },
  "language_info": {
   "codemirror_mode": {
    "name": "ipython",
    "version": 2
   },
   "file_extension": ".py",
   "mimetype": "text/x-python",
   "name": "python",
   "nbconvert_exporter": "python",
   "pygments_lexer": "ipython2",
   "version": "2.7.12"
  },
  "nbpresent": {
   "slides": {
    "21c54491-86fe-4c47-bbff-2268105cb38a": {
     "id": "21c54491-86fe-4c47-bbff-2268105cb38a",
     "prev": null,
     "regions": {
      "b75ad06f-bdcf-4346-b63f-6c2e3a4b55b1": {
       "attrs": {
        "height": 0.8,
        "width": 0.45000000000000007,
        "x": 0.5142081583654652,
        "y": 0.09494821035894575
       },
       "id": "b75ad06f-bdcf-4346-b63f-6c2e3a4b55b1"
      },
      "c0b6c630-2588-411f-ab13-2ff8b4e1881f": {
       "attrs": {
        "height": 0.8,
        "width": 0.45000000000000007,
        "x": 0.05,
        "y": 0.1
       },
       "id": "c0b6c630-2588-411f-ab13-2ff8b4e1881f"
      }
     }
    }
   },
   "themes": {}
  }
 },
 "nbformat": 4,
 "nbformat_minor": 1
}
