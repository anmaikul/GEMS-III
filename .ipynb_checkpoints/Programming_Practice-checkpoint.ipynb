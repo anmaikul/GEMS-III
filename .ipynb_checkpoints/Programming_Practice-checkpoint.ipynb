{
 "cells": [
  {
   "cell_type": "markdown",
   "metadata": {
    "slideshow": {
     "slide_type": "slide"
    }
   },
   "source": [
    "\n",
    " # <center> Programming Practice in Python</center>\n",
    "\n"
   ]
  },
  {
   "cell_type": "markdown",
   "metadata": {
    "slideshow": {
     "slide_type": "-"
    }
   },
   "source": [
    " ### <center>Summer Institute 2017</center>\n",
    " #### <center>Michael An</center>"
   ]
  },
  {
   "cell_type": "markdown",
   "metadata": {
    "slideshow": {
     "slide_type": "subslide"
    }
   },
   "source": [
    "<center><img src=\"img/outline.svg\"> </center>"
   ]
  },
  {
   "cell_type": "code",
   "execution_count": 1,
   "metadata": {
    "scrolled": true,
    "slideshow": {
     "slide_type": "skip"
    }
   },
   "outputs": [
    {
     "data": {
      "application/javascript": [
       "//element.hide();\n",
       "\n",
       "element.append('<span id=\"reset\"> Options: <button>Clear</button></span>');\n",
       "element.append('<span id=\"eraser\"> <button onclick=\"\">Eraser</button></span>');\n",
       "element.append('<span id=\"marker\"> <button>Marker</button></span>');\n",
       "element.append('<div id=\"sketch\" style=\"position:absolute; left:0;\"><canvas id=\"paint\"></canvas></div>');\n",
       "\n",
       "var canvas = element.get(0).querySelector(\"#sketch canvas\"); //childNodes[0].childNodes[0];\n",
       "var ctx = canvas.getContext('2d');\n",
       "var sketch = element.get(0).childNodes[3];\n",
       "\n",
       "element.get(0).querySelector(\"#reset button\").onclick = function() {\n",
       "resetCanvas()\n",
       "};\n",
       "element.get(0).querySelector(\"#eraser button\").onclick = function() {\n",
       "getColor('#333333');\n",
       "getSize('20');\n",
       "};\n",
       "element.get(0).querySelector(\"#marker button\").onclick = function() {\n",
       "getColor('green');\n",
       "getSize('5');\n",
       "};\n",
       "\n",
       "canvas.style.backgroundColor = '#333333';\n",
       "\n",
       "var sketch_style = getComputedStyle(sketch);\n",
       "canvas.width = $(\"div.container.slides\").get(0).clientWidth; \n",
       "\n",
       "canvas.height = $(\"div.container.slides\").get(0).clientHeight;\n",
       "\n",
       "var mouse = {\n",
       "    x: 0,\n",
       "    y: 0\n",
       "};\n",
       "\n",
       "/* Mouse Capturing Work */\n",
       "canvas.addEventListener('mousemove', function(e) {\n",
       "    //    alert( [this.clientWidth, e.clientX, this.offsetLeft, e.clientY, this.offsetTop, this.getBoundingClientRect().top, this.getBoundingClientRect().left] )\n",
       "    mouse.x = e.clientX - this.getBoundingClientRect().left;\n",
       "    mouse.y = e.pageY - this.getBoundingClientRect().top;\n",
       "}, false);\n",
       "\n",
       "/* Drawing on Paint App */\n",
       "ctx.lineJoin = 'round';\n",
       "ctx.lineCap = 'round';\n",
       "ctx.lineWidth = '5';\n",
       "\n",
       "ctx.strokeStyle = \"green\";\n",
       "function getColor(colour) {\n",
       "    ctx.strokeStyle = colour;\n",
       "}\n",
       "\n",
       "var getSize = function getSize(size) {\n",
       "    ctx.lineWidth = size;\n",
       "}\n",
       "\n",
       "function resetCanvas() {\n",
       "    ctx.clearRect(0, 0, canvas.width, canvas.height);\n",
       "}\n",
       "\n",
       "//ctx.strokeStyle = \n",
       "//ctx.strokeStyle = document.settings.colour[1].value;\n",
       "\n",
       "canvas.addEventListener('mousedown', function(e) {\n",
       "    ctx.beginPath();\n",
       "    ctx.moveTo(mouse.x, mouse.y);\n",
       "\n",
       "    canvas.addEventListener('mousemove', onPaint, false);\n",
       "}, false);\n",
       "\n",
       "canvas.addEventListener('mouseup', function() {\n",
       "    canvas.removeEventListener('mousemove', onPaint, false);\n",
       "}, false);\n",
       "\n",
       "var onPaint = function() {\n",
       "    ctx.lineTo(mouse.x, mouse.y);\n",
       "    ctx.stroke();\n",
       "};"
      ],
      "text/plain": [
       "<IPython.core.display.Javascript object>"
      ]
     },
     "metadata": {},
     "output_type": "display_data"
    }
   ],
   "source": [
    "from IPython.display import HTML, Javascript, display\n",
    "js = open('js/chalkboard.js').read()\n",
    "display(Javascript(js))"
   ]
  },
  {
   "cell_type": "code",
   "execution_count": 2,
   "metadata": {
    "slideshow": {
     "slide_type": "skip"
    }
   },
   "outputs": [
    {
     "ename": "SyntaxError",
     "evalue": "invalid syntax (<ipython-input-2-961c8a397f52>, line 1)",
     "output_type": "error",
     "traceback": [
      "\u001b[0;36m  File \u001b[0;32m\"<ipython-input-2-961c8a397f52>\"\u001b[0;36m, line \u001b[0;32m1\u001b[0m\n\u001b[0;31m    Go through some examples of cool things\u001b[0m\n\u001b[0m             ^\u001b[0m\n\u001b[0;31mSyntaxError\u001b[0m\u001b[0;31m:\u001b[0m invalid syntax\n"
     ]
    }
   ],
   "source": [
    "Go through some examples of cool things"
   ]
  },
  {
   "cell_type": "markdown",
   "metadata": {
    "slideshow": {
     "slide_type": "slide"
    }
   },
   "source": [
    "# What is programming?\n",
    "\n",
    "We want to instruct the computer to do something:\n",
    "\n",
    "* Convert a file from one format to another (e.g. text to PDF, JPG to PNG)\n",
    "* Retrieve some information, media from the web\n",
    "* Do intensive scientific computations\n",
    "\n"
   ]
  },
  {
   "cell_type": "markdown",
   "metadata": {
    "slideshow": {
     "slide_type": "subslide"
    }
   },
   "source": [
    "<center><img src=\"img/google_search.png\"></center>"
   ]
  },
  {
   "cell_type": "markdown",
   "metadata": {
    "slideshow": {
     "slide_type": "subslide"
    }
   },
   "source": [
    "<center><img src=\"img/lucidchart.png\"></center>"
   ]
  },
  {
   "cell_type": "markdown",
   "metadata": {
    "slideshow": {
     "slide_type": "subslide"
    }
   },
   "source": [
    "...because you can't just type anything and expect the computer to perform the action. \n",
    "\n",
    "<center><img src=\"img/star_trek.jpg\" width='30%'></center>\n",
    "### Computer, take these files and count the number of words in each!"
   ]
  },
  {
   "cell_type": "markdown",
   "metadata": {
    "slideshow": {
     "slide_type": "subslide"
    }
   },
   "source": [
    "### The programmer's job:\n",
    "\n",
    "Given some task, translate the task, *using a programming language*, to a set of instructions that the computer can perform one by one.\n"
   ]
  },
  {
   "cell_type": "markdown",
   "metadata": {
    "slideshow": {
     "slide_type": "fragment"
    }
   },
   "source": [
    "### The programming language \n",
    "\n",
    "In a nutshell, a set of rules (syntax semantics), for how you should write these instructions. "
   ]
  },
  {
   "cell_type": "markdown",
   "metadata": {
    "slideshow": {
     "slide_type": "subslide"
    }
   },
   "source": [
    "## Syntax & Semantics\n",
    "\n",
    "Define different ways to express the same idea.\n"
   ]
  },
  {
   "cell_type": "markdown",
   "metadata": {
    "slideshow": {
     "slide_type": "-"
    }
   },
   "source": [
    "### An analogy: human languages\n",
    "\n",
    "I love dogs. \n",
    "\n",
    "I dogs love. (나는 개를 좋아합니다 - Korean characters) \n",
    "\n"
   ]
  },
  {
   "cell_type": "markdown",
   "metadata": {
    "slideshow": {
     "slide_type": "fragment"
    }
   },
   "source": [
    "### Programming languages\n",
    "\n",
    "`print \"Testing the print statement\"` - *Python*\n",
    "\n",
    "`System.out.println(\"Testing the print statement\")` - *Java*"
   ]
  },
  {
   "cell_type": "markdown",
   "metadata": {
    "slideshow": {
     "slide_type": "slide"
    }
   },
   "source": [
    "## The language - Python\n",
    "\n",
    "<center><img src=\"https://ee5817f8e2e9a2e34042-3365e7f0719651e5b8d0979bce83c558.ssl.cf5.rackcdn.com/python.png\" width=\"15%\"></center>\n",
    "\n",
    "A general purpose programming language. Can do many, many things with it:\n",
    "1. Deliver websites\n",
    "2. Work with data, do calculations, and graph results\n",
    "3. Scripting - automate tasks\n"
   ]
  },
  {
   "cell_type": "markdown",
   "metadata": {
    "slideshow": {
     "slide_type": "slide"
    }
   },
   "source": [
    "\n",
    "## Before we start, let's take a look at the ** Interactive Development Environment (IDE)**\n",
    "\n",
    "An IDE is a program that computer programmers use to write and edit code.\n",
    "\n",
    "\n"
   ]
  },
  {
   "cell_type": "markdown",
   "metadata": {
    "slideshow": {
     "slide_type": "fragment"
    }
   },
   "source": [
    "### *Micosoft Word, Google Docs* --> writing text documents"
   ]
  },
  {
   "cell_type": "markdown",
   "metadata": {
    "slideshow": {
     "slide_type": "fragment"
    }
   },
   "source": [
    "### *IDE* --> writing code"
   ]
  },
  {
   "cell_type": "markdown",
   "metadata": {
    "slideshow": {
     "slide_type": "subslide"
    }
   },
   "source": [
    "## Use the best tool for the task\n",
    "\n",
    "### (Do not use a nuclear weapon to kill a fly)"
   ]
  },
  {
   "cell_type": "markdown",
   "metadata": {
    "slideshow": {
     "slide_type": "fragment"
    }
   },
   "source": [
    "Why the IDE might be the tool: \n",
    "* A debugger - stop your code at specific lines to inspect what's going on.\n",
    "* An inspector - get a bird's eye view of the variables defined in your code, and their values"
   ]
  },
  {
   "cell_type": "markdown",
   "metadata": {
    "slideshow": {
     "slide_type": "subslide"
    }
   },
   "source": [
    "## Spyder - An IDE for Scientific Computing And Data Analysis\n",
    "\n",
    "<center><img src=\"https://upload.wikimedia.org/wikipedia/commons/7/7e/Spyder_logo.svg\" width=\"20%\"></center> \n",
    "  \n",
    "You can find the launcher icon on the left bar.\n"
   ]
  },
  {
   "cell_type": "markdown",
   "metadata": {
    "slideshow": {
     "slide_type": "slide"
    }
   },
   "source": [
    "# Review of Python Syntax\n",
    "\n"
   ]
  },
  {
   "cell_type": "markdown",
   "metadata": {
    "slideshow": {
     "slide_type": "fragment"
    }
   },
   "source": [
    "## Variables - an ID for a particular location in memory\n",
    "\n",
    "   <center><img src=\"img/addresses.svg\" width=\"50%\"></center>\n",
    "   \n",
    "   * Your home address is not your actual house, but it identifies where you live. \n",
    "   \n",
    "   * A variable identifies a stored value.\n",
    "\n"
   ]
  },
  {
   "cell_type": "markdown",
   "metadata": {
    "slideshow": {
     "slide_type": "subslide"
    }
   },
   "source": [
    "## Variable Assignment"
   ]
  },
  {
   "cell_type": "code",
   "execution_count": null,
   "metadata": {
    "collapsed": true,
    "slideshow": {
     "slide_type": "-"
    }
   },
   "outputs": [],
   "source": [
    "# var_name <---- 10    \n",
    "var_name = 10\n",
    "10 = var_name"
   ]
  },
  {
   "cell_type": "markdown",
   "metadata": {
    "slideshow": {
     "slide_type": "fragment"
    }
   },
   "source": [
    "You are assigning the value of 10 to a memory location identified by \"var_name\""
   ]
  },
  {
   "cell_type": "markdown",
   "metadata": {
    "slideshow": {
     "slide_type": "slide"
    }
   },
   "source": [
    "# Variable Types\n",
    "\n"
   ]
  },
  {
   "cell_type": "markdown",
   "metadata": {
    "slideshow": {
     "slide_type": "fragment"
    }
   },
   "source": [
    "## A variable can hold many types of data.\n",
    "\n",
    "* Numbers (integers, *rational* decimal values)\n",
    "* Strings (of characters)\n",
    "* Booleans (True or False)\n",
    "* Objects\n",
    "* Lists\n",
    "...\n",
    "\n"
   ]
  },
  {
   "cell_type": "markdown",
   "metadata": {
    "slideshow": {
     "slide_type": "subslide"
    }
   },
   "source": [
    "## Numbers\n",
    "\n",
    "Different number \"types\"\n",
    "\n",
    "* Integer (int) type\n",
    "\n",
    "* Floating point value (float) type"
   ]
  },
  {
   "cell_type": "markdown",
   "metadata": {
    "slideshow": {
     "slide_type": "subslide"
    }
   },
   "source": [
    "### Difference between an `int` variable with value 1, and a `float` variable with value 1"
   ]
  },
  {
   "cell_type": "code",
   "execution_count": null,
   "metadata": {
    "collapsed": true,
    "scrolled": false,
    "slideshow": {
     "slide_type": "fragment"
    }
   },
   "outputs": [],
   "source": [
    "val1 = float(1)/3\n",
    "print val1\n"
   ]
  },
  {
   "cell_type": "markdown",
   "metadata": {
    "slideshow": {
     "slide_type": "fragment"
    }
   },
   "source": [
    "### Casting: Converting one type to another type"
   ]
  },
  {
   "cell_type": "markdown",
   "metadata": {
    "slideshow": {
     "slide_type": "subslide"
    }
   },
   "source": [
    "### Numbers can only be as precise / as large as will fit in memory!\n",
    "\n",
    "But, python can handle quite large numbers!\n",
    "\n",
    "* The long data type"
   ]
  },
  {
   "cell_type": "code",
   "execution_count": null,
   "metadata": {
    "collapsed": true,
    "slideshow": {
     "slide_type": "-"
    }
   },
   "outputs": [],
   "source": [
    "too_big = 9999999999999999999999999999999999999999999999999999999999999999999999999999999999999999999999999999999999999999999\n",
    "print too_big**10\n"
   ]
  },
  {
   "cell_type": "markdown",
   "metadata": {
    "slideshow": {
     "slide_type": "subslide"
    }
   },
   "source": [
    "## You can compute something, and **then** store the result\n",
    "\n"
   ]
  },
  {
   "cell_type": "code",
   "execution_count": null,
   "metadata": {
    "collapsed": true,
    "slideshow": {
     "slide_type": "-"
    }
   },
   "outputs": [],
   "source": [
    "candy_price = 1.99\n",
    "eggs_price = 3.99\n",
    "\n",
    "total_price = 3*candy_price + 2*eggs_price\n",
    "print total_price"
   ]
  },
  {
   "cell_type": "markdown",
   "metadata": {
    "slideshow": {
     "slide_type": "subslide"
    }
   },
   "source": [
    "## Strings\n",
    "\n",
    "A way to represent text information.\n",
    "\n",
    "Just sequence of characters. "
   ]
  },
  {
   "cell_type": "code",
   "execution_count": null,
   "metadata": {
    "collapsed": true
   },
   "outputs": [],
   "source": [
    "sample_string = 'This is a test string'\n",
    "print sample_string\n"
   ]
  },
  {
   "cell_type": "markdown",
   "metadata": {
    "slideshow": {
     "slide_type": "subslide"
    }
   },
   "source": [
    "### Text doesn't just include ABCs and numbers. You have tabs, line & paragraph separation, etc.\n",
    "\n"
   ]
  },
  {
   "cell_type": "markdown",
   "metadata": {
    "slideshow": {
     "slide_type": "fragment"
    }
   },
   "source": [
    "Escape characters: `\\t`, `\\n`, `\\'`\n",
    "\n",
    "**The \"\\\" says: what follows is not just any letter, but it means something special**\n"
   ]
  },
  {
   "cell_type": "code",
   "execution_count": null,
   "metadata": {
    "collapsed": true,
    "slideshow": {
     "slide_type": "fragment"
    }
   },
   "outputs": [],
   "source": [
    "sample_string = 'This is a \\'test\\''\n",
    "print sample_string"
   ]
  },
  {
   "cell_type": "markdown",
   "metadata": {
    "slideshow": {
     "slide_type": "skip"
    }
   },
   "source": [
    "### Multi-line strings"
   ]
  },
  {
   "cell_type": "code",
   "execution_count": null,
   "metadata": {
    "collapsed": true,
    "scrolled": true,
    "slideshow": {
     "slide_type": "skip"
    }
   },
   "outputs": [],
   "source": [
    "name = '''Mike\\t An\n",
    "next line\n",
    "and another line'''\n",
    "print name"
   ]
  },
  {
   "cell_type": "markdown",
   "metadata": {
    "slideshow": {
     "slide_type": "subslide"
    }
   },
   "source": [
    "### Can concatenate strings into a new string\n"
   ]
  },
  {
   "cell_type": "code",
   "execution_count": null,
   "metadata": {
    "collapsed": true,
    "slideshow": {
     "slide_type": "fragment"
    }
   },
   "outputs": [],
   "source": [
    "\n",
    "last_name = 'An'\n",
    "first_name = 'Mike'\n",
    "name = first_name + ' ' + last_name + ' ' + 'is here!'\n",
    "print name"
   ]
  },
  {
   "cell_type": "markdown",
   "metadata": {
    "collapsed": true,
    "slideshow": {
     "slide_type": "subslide"
    }
   },
   "source": [
    "### Difference between \"10\" and the number 10\n",
    "\n",
    "To us humans, a string \"10\" and the number 10 seems like the same. But, in a programming language, they are different!\n",
    "\n",
    "Remember, to the computer, these are different \"types\"!\n",
    "\n"
   ]
  },
  {
   "cell_type": "code",
   "execution_count": null,
   "metadata": {
    "collapsed": true
   },
   "outputs": [],
   "source": [
    "value = '10' + 1"
   ]
  },
  {
   "cell_type": "markdown",
   "metadata": {
    "slideshow": {
     "slide_type": "subslide"
    }
   },
   "source": [
    "Often, **number**s are in **string** format. (for example, from a text file or spreadsheet)\n",
    "\n",
    "### How do you \"use\" the value like you would a number?"
   ]
  },
  {
   "cell_type": "markdown",
   "metadata": {
    "slideshow": {
     "slide_type": "fragment"
    }
   },
   "source": [
    "Cast the string to a `float` first, and then use it."
   ]
  },
  {
   "cell_type": "code",
   "execution_count": null,
   "metadata": {
    "collapsed": true,
    "slideshow": {
     "slide_type": "fragment"
    }
   },
   "outputs": [],
   "source": [
    "value = int('10') + 1\n",
    "print value"
   ]
  },
  {
   "cell_type": "markdown",
   "metadata": {
    "slideshow": {
     "slide_type": "subslide"
    }
   },
   "source": [
    "## Booleans\n",
    "\n",
    "A boolean value can be one of two values: `true` or `false`\n",
    "\n",
    "\n",
    "\n"
   ]
  },
  {
   "cell_type": "markdown",
   "metadata": {
    "slideshow": {
     "slide_type": "fragment"
    }
   },
   "source": [
    "Important for computers to make decisions.\n",
    "\n",
    "For example: Do I run the next line of code, or skip it? "
   ]
  },
  {
   "cell_type": "code",
   "execution_count": null,
   "metadata": {
    "collapsed": true,
    "slideshow": {
     "slide_type": "fragment"
    }
   },
   "outputs": [],
   "source": [
    "should_print = True\n",
    "\n",
    "if (should_print is True):\n",
    "    print \"We should print!\""
   ]
  },
  {
   "cell_type": "markdown",
   "metadata": {
    "slideshow": {
     "slide_type": "subslide"
    }
   },
   "source": [
    "## More elaborate use of booleans:\n",
    "\n",
    "Is a **set** of conditions satisfied or not?\n",
    "\n",
    "To see how this works, let's quickly talk about algebra!\n",
    "\n",
    "\n"
   ]
  },
  {
   "cell_type": "markdown",
   "metadata": {
    "slideshow": {
     "slide_type": "subslide"
    }
   },
   "source": [
    "## Algebra\n",
    "\n",
    "Different operators: $+$, $-$, $*$, $/$\n",
    "\n"
   ]
  },
  {
   "cell_type": "code",
   "execution_count": null,
   "metadata": {
    "collapsed": true,
    "slideshow": {
     "slide_type": "fragment"
    }
   },
   "outputs": [],
   "source": [
    "4 + 3 * 2\n",
    " "
   ]
  },
  {
   "cell_type": "markdown",
   "metadata": {
    "slideshow": {
     "slide_type": "fragment"
    }
   },
   "source": [
    "### Boolean Algebra (a bit different from what you learned in school)\n",
    "\n",
    "Instead of the usual operators, we have:\n",
    "\n",
    "### <center>`and`, `or`</center>"
   ]
  },
  {
   "cell_type": "markdown",
   "metadata": {
    "slideshow": {
     "slide_type": "subslide"
    }
   },
   "source": [
    "### Scenario: Checklist to determine if you're ready to go to school\n",
    "\n",
    "Did you...\n",
    "\n",
    "1. Eat breakfast?\n",
    "2. Pack last night's homework?\n",
    "3. Bring books and materials?\n",
    "4. Pack stuff for after school activity (instrument, sports gear)?\n",
    "\n",
    "When you did all the above, you're ready to go to school"
   ]
  },
  {
   "cell_type": "markdown",
   "metadata": {
    "slideshow": {
     "slide_type": "subslide"
    }
   },
   "source": [
    "1. Eat breakfast?\n",
    "2. Pack last night's homework?\n",
    "3. Bring books and binders?\n"
   ]
  },
  {
   "cell_type": "code",
   "execution_count": null,
   "metadata": {
    "collapsed": true,
    "slideshow": {
     "slide_type": "fragment"
    }
   },
   "outputs": [],
   "source": [
    "#Going to school!\n",
    "breakfast = True\n",
    "homework_packed = True\n",
    "books_binders_packed = True\n",
    "\n",
    "ready_to_go = breakfast and homework_packed and books_binders_packed\n",
    "\n",
    "print ready_to_go"
   ]
  },
  {
   "cell_type": "code",
   "execution_count": null,
   "metadata": {
    "collapsed": true,
    "slideshow": {
     "slide_type": "fragment"
    }
   },
   "outputs": [],
   "source": [
    "breakfast = False\n",
    "cereal_bar_packed = True\n",
    "\n",
    "ready_to_go = ((breakfast or cereal_bar_packed) and homework_packed \n",
    "               and books_binders_packed)\n",
    "\n",
    "print ready_to_go"
   ]
  },
  {
   "cell_type": "markdown",
   "metadata": {
    "slideshow": {
     "slide_type": "slide"
    }
   },
   "source": [
    "# More Advanced Structures\n",
    "\n",
    "\n",
    "\n"
   ]
  },
  {
   "cell_type": "markdown",
   "metadata": {
    "slideshow": {
     "slide_type": "fragment"
    }
   },
   "source": [
    "## Lists\n",
    "\n",
    "A collection of items.\n",
    "**Ordered** collection."
   ]
  },
  {
   "cell_type": "code",
   "execution_count": null,
   "metadata": {
    "collapsed": true,
    "slideshow": {
     "slide_type": "fragment"
    }
   },
   "outputs": [],
   "source": [
    "my_list = ['orange', 'apple', 1]\n",
    "print my_list"
   ]
  },
  {
   "cell_type": "code",
   "execution_count": null,
   "metadata": {
    "collapsed": true,
    "slideshow": {
     "slide_type": "skip"
    }
   },
   "outputs": [],
   "source": [
    "my_list = []"
   ]
  },
  {
   "cell_type": "markdown",
   "metadata": {
    "slideshow": {
     "slide_type": "subslide"
    }
   },
   "source": [
    "## Accessing items in a list (indexing)\n",
    "\n",
    "\n",
    "Use [ ] with the index number inside.\n",
    "\n",
    "**Important**: Indices start at 0, not 1!\n"
   ]
  },
  {
   "cell_type": "code",
   "execution_count": null,
   "metadata": {
    "collapsed": true
   },
   "outputs": [],
   "source": [
    "my_list = [6,3,5,10,2]\n",
    "\n",
    "print my_list[-2]"
   ]
  },
  {
   "cell_type": "code",
   "execution_count": null,
   "metadata": {
    "collapsed": true,
    "slideshow": {
     "slide_type": "skip"
    }
   },
   "outputs": [],
   "source": [
    "my_list[-1]"
   ]
  },
  {
   "cell_type": "markdown",
   "metadata": {
    "slideshow": {
     "slide_type": "slide"
    }
   },
   "source": [
    "# More Advanced Structures\n"
   ]
  },
  {
   "cell_type": "markdown",
   "metadata": {
    "slideshow": {
     "slide_type": "fragment"
    }
   },
   "source": [
    "## Dictionary\n",
    "\n",
    "A collection, where each item (or value) can be identified by a **unique** ID (or key).\n"
   ]
  },
  {
   "cell_type": "code",
   "execution_count": null,
   "metadata": {
    "collapsed": true,
    "slideshow": {
     "slide_type": "-"
    }
   },
   "outputs": [],
   "source": [
    "example_dict = {key1: value1, \n",
    " key2: value2}\n"
   ]
  },
  {
   "cell_type": "markdown",
   "metadata": {
    "slideshow": {
     "slide_type": "subslide"
    }
   },
   "source": [
    "<center><img src=\"img/dictionary_pic.svg\" width=\"30%\"></center>\n"
   ]
  },
  {
   "cell_type": "code",
   "execution_count": null,
   "metadata": {
    "collapsed": true,
    "slideshow": {
     "slide_type": "fragment"
    }
   },
   "outputs": [],
   "source": [
    "customer_info = {\n",
    "    456789: {'name': 'John Smith', 'street': '123 Main St', 'class': 'junior', 'email': 'john@email.com'},\n",
    "    204950: {'name': 'Mary Smith', 'street': '45 Paradise Rd', 'class': 'freshman', 'email': 'mary@yahoo.com'}\n",
    "}\n",
    "\n",
    "print customer_info[0]\n"
   ]
  },
  {
   "cell_type": "markdown",
   "metadata": {
    "slideshow": {
     "slide_type": "subslide"
    }
   },
   "source": [
    "Dictionary IDs don't have to be numbers though. For example, can be strings too."
   ]
  },
  {
   "cell_type": "markdown",
   "metadata": {
    "slideshow": {
     "slide_type": "fragment"
    }
   },
   "source": [
    "### Ideally, want to look things up in a collection based on *relevant* identifiers that make sense."
   ]
  },
  {
   "cell_type": "code",
   "execution_count": null,
   "metadata": {
    "collapsed": true,
    "slideshow": {
     "slide_type": "fragment"
    }
   },
   "outputs": [],
   "source": [
    "fruit_costs = {'apple': .99, 'orange': 1.29, 'banana': 1.99}\n",
    "\n",
    "fruit_costs['apple']\n"
   ]
  },
  {
   "cell_type": "markdown",
   "metadata": {
    "slideshow": {
     "slide_type": "subslide"
    }
   },
   "source": [
    "Another example: An actual dictionary! \n",
    "\n",
    "<center><img src=\"img/dictionary.jpg\" width=\"50%\"></center>\n",
    "<center>What are the key, value pairs here?</center>"
   ]
  },
  {
   "cell_type": "markdown",
   "metadata": {
    "slideshow": {
     "slide_type": "fragment"
    }
   },
   "source": [
    "### _**Would you want to look up a word in the dictionary by an ID number?**_"
   ]
  },
  {
   "cell_type": "code",
   "execution_count": null,
   "metadata": {
    "collapsed": true,
    "slideshow": {
     "slide_type": "fragment"
    }
   },
   "outputs": [],
   "source": []
  },
  {
   "cell_type": "markdown",
   "metadata": {
    "slideshow": {
     "slide_type": "skip"
    }
   },
   "source": [
    "Maybe: \n",
    "\n",
    "## Quiz: What's the best structure to use, list, dictionary, or tuple?"
   ]
  },
  {
   "cell_type": "markdown",
   "metadata": {
    "slideshow": {
     "slide_type": "slide"
    }
   },
   "source": [
    "# Conditional Statements\n",
    "\n",
    "\n",
    "Sometimes, you don't want to run every line of code.\n",
    "\n",
    "Sometimes, you want to do something different depending on some *condition*."
   ]
  },
  {
   "cell_type": "markdown",
   "metadata": {
    "slideshow": {
     "slide_type": "subslide"
    }
   },
   "source": [
    "### `if` statement - decide whether to run the following code or not"
   ]
  },
  {
   "cell_type": "markdown",
   "metadata": {
    "slideshow": {
     "slide_type": "-"
    }
   },
   "source": [
    "```python\n",
    "if condition:\n",
    "    do stuff\n",
    "else:\n",
    "    do something else\n",
    "```\n",
    "\n",
    "* The condition is something that evaluates to `True` or `False`\n",
    "* **Only if** the condition is True, do stuff inside\n",
    "* Optional: If the condition is False (NOT True), then run the `else` code"
   ]
  },
  {
   "cell_type": "code",
   "execution_count": null,
   "metadata": {
    "collapsed": true,
    "slideshow": {
     "slide_type": "subslide"
    }
   },
   "outputs": [],
   "source": [
    "x = -3\n",
    "\n",
    "if x < 0:\n",
    "    x = -1*x\n",
    "\n",
    "print x\n"
   ]
  },
  {
   "cell_type": "markdown",
   "metadata": {
    "slideshow": {
     "slide_type": "subslide"
    }
   },
   "source": [
    "### Make sure you \"cover all bases\" when you write an `if` statement"
   ]
  },
  {
   "cell_type": "code",
   "execution_count": null,
   "metadata": {
    "collapsed": true,
    "slideshow": {
     "slide_type": "-"
    }
   },
   "outputs": [],
   "source": [
    "x = 0\n",
    "\n",
    "# Check if x is negative or positive\n",
    "if x < 0:\n",
    "    print 'x is negative'\n",
    "elif x > 0:\n",
    "    print 'x is positive'\n",
    "    "
   ]
  },
  {
   "cell_type": "markdown",
   "metadata": {
    "slideshow": {
     "slide_type": "subslide"
    }
   },
   "source": [
    "# Iteration\n",
    "\n",
    "Often, you need to perform an operation many times, not just once (or twice)."
   ]
  },
  {
   "cell_type": "code",
   "execution_count": null,
   "metadata": {
    "collapsed": true,
    "slideshow": {
     "slide_type": "fragment"
    }
   },
   "outputs": [],
   "source": [
    "list_var = [1, 2, 3, 4, 5]\n",
    "list_sum = 0\n",
    "\n",
    "for i in [0,1,2,3,4]:\n",
    "    list_sum = list_sum + list_var[i]\n",
    "\n",
    "print list_sum"
   ]
  },
  {
   "cell_type": "code",
   "execution_count": null,
   "metadata": {
    "collapsed": true,
    "slideshow": {
     "slide_type": "subslide"
    }
   },
   "outputs": [],
   "source": [
    "for i in [0,1,2,3,4]:\n",
    "    list_sum = list_sum + list_var[i]"
   ]
  },
  {
   "cell_type": "markdown",
   "metadata": {
    "slideshow": {
     "slide_type": "fragment"
    }
   },
   "source": [
    "equivalent to:"
   ]
  },
  {
   "cell_type": "code",
   "execution_count": null,
   "metadata": {
    "collapsed": true,
    "slideshow": {
     "slide_type": "fragment"
    }
   },
   "outputs": [],
   "source": [
    "list_sum = list_sum + list_var[0]\n",
    "list_sum = list_sum + list_var[1]\n",
    "list_sum = list_sum + list_var[2]\n",
    "list_sum = list_sum + list_var[3]\n",
    "list_sum = list_sum + list_var[4]\n",
    "\n",
    "print list_sum"
   ]
  },
  {
   "cell_type": "markdown",
   "metadata": {
    "slideshow": {
     "slide_type": "subslide"
    }
   },
   "source": [
    "### When writing for loops, think about:\n",
    "\n",
    "1. *What range of values do you want to iterate? *\n",
    "\n",
    "    ```python \n",
    "    for i in [0,1,2,3,4]:\n",
    "    ```\n",
    "    Want to fill the list with values, so `i` should correspond to the list index values\n",
    "<img src=\"img/iter_1.svg\" width=\"50%\">\n",
    "\n",
    "2. *For an arbitrary `i`, what set of instructions do you want to run:*\n",
    "\n",
    "    At list position `i`, add that number to the running sum\n",
    "\n",
    "    ```python\n",
    "        list_sum = list_sum + list_var[i]\n",
    "    ```\n",
    "\n"
   ]
  },
  {
   "cell_type": "markdown",
   "metadata": {},
   "source": [
    "## While loop, the simpler cousin\n",
    "\n",
    "```python\n",
    "while condition:\n",
    "    do stuff\n",
    "```\n",
    "    * Just like with the `if` statement, the condition must be a statement that evaluates to True or False\n",
    "    * If the condition is True, do stuff inside\n",
    "    * After the inside is finished, check if the condition is True again. If so, run do stuff inside again"
   ]
  },
  {
   "cell_type": "markdown",
   "metadata": {},
   "source": [
    "# Exercise: Write Python code that prints out all numbers between 1 and 100 that are divisible by both 3 and 5."
   ]
  },
  {
   "cell_type": "markdown",
   "metadata": {
    "slideshow": {
     "slide_type": "slide"
    }
   },
   "source": [
    "# Functions\n",
    "\n",
    "A function is a unit of code that <span style=\"color: green\">**takes in**</span> some values, uses it to compute / run some instructions, and (often) <span style=\"color: blue\">**gives back a result**</span>."
   ]
  },
  {
   "cell_type": "markdown",
   "metadata": {
    "slideshow": {
     "slide_type": "fragment"
    }
   },
   "source": [
    "First, let's look at a math function, $f(x)=x^2$:\n",
    "\n",
    "<center><img src=\"img/function.svg\" width=\"40%\"></center>\n",
    "\n",
    "**Given** a value $x$, we compute the expression on the right using $x$, and the result is $f(x)$."
   ]
  },
  {
   "cell_type": "markdown",
   "metadata": {
    "slideshow": {
     "slide_type": "subslide"
    }
   },
   "source": [
    "### A Python function for $f(x)$:"
   ]
  },
  {
   "cell_type": "code",
   "execution_count": null,
   "metadata": {
    "collapsed": true,
    "slideshow": {
     "slide_type": "fragment"
    }
   },
   "outputs": [],
   "source": [
    "def x_squared(x):\n",
    "    result = x**2\n",
    "    return result"
   ]
  },
  {
   "cell_type": "markdown",
   "metadata": {
    "slideshow": {
     "slide_type": "subslide"
    }
   },
   "source": [
    "## Important parts of a function:"
   ]
  },
  {
   "cell_type": "markdown",
   "metadata": {
    "slideshow": {
     "slide_type": "fragment"
    }
   },
   "source": [
    "```python\n",
    "def x_squared(x):\n",
    "```\n",
    "\n",
    "* `def` tells Python that are you **def**ining a function\n",
    "* `x_squared` is the name of the function\n",
    "* ( ...  ) is the arguments (what the function takes in)"
   ]
  },
  {
   "cell_type": "markdown",
   "metadata": {
    "slideshow": {
     "slide_type": "fragment"
    }
   },
   "source": [
    "```python\n",
    "return result\n",
    "```\n",
    "\n",
    "The function will give back the result\n"
   ]
  },
  {
   "cell_type": "markdown",
   "metadata": {
    "slideshow": {
     "slide_type": "subslide"
    }
   },
   "source": [
    "Note: Unlike in math, a function in Python:\n",
    "* does not *have* to return a result.\n",
    "* doesn't always have to give something back."
   ]
  },
  {
   "cell_type": "markdown",
   "metadata": {
    "slideshow": {
     "slide_type": "subslide"
    }
   },
   "source": [
    "### Calling a function\n",
    "\n",
    "We defined a function, but, we have to *call* the function to run the code.\n",
    "\n",
    "You call a function by **passing in** values, the $x$."
   ]
  },
  {
   "cell_type": "code",
   "execution_count": null,
   "metadata": {
    "collapsed": true,
    "slideshow": {
     "slide_type": "fragment"
    }
   },
   "outputs": [],
   "source": [
    "x_squared(6)"
   ]
  },
  {
   "cell_type": "markdown",
   "metadata": {
    "slideshow": {
     "slide_type": "subslide"
    }
   },
   "source": [
    "## Lets look at a function that doesn't involve math\n",
    "\n",
    "A function that gives back a greeting in several languages."
   ]
  },
  {
   "cell_type": "code",
   "execution_count": null,
   "metadata": {
    "collapsed": true,
    "slideshow": {
     "slide_type": "fragment"
    }
   },
   "outputs": [],
   "source": [
    "# lang is one of {'es', 'en', 'fr', 'ch', 'jp'}\n",
    "def say_hello_in(lang, name):\n",
    "    greetings = ({'es': u'Hola', \n",
    "                  'en': u'Hello', \n",
    "                  'fr': u'Bonjour',\n",
    "                  'ch': u'你好', \n",
    "                  'jp': u'こんにちは',\n",
    "                  'ru': u'Здравствуйте'})\n",
    "    return u'{greeting} {name}!'.format(greeting=greetings[lang], name=name)"
   ]
  },
  {
   "cell_type": "code",
   "execution_count": null,
   "metadata": {
    "collapsed": true,
    "slideshow": {
     "slide_type": "fragment"
    }
   },
   "outputs": [],
   "source": [
    "print say_hello_in('ru', 'Michael')"
   ]
  },
  {
   "cell_type": "markdown",
   "metadata": {
    "slideshow": {
     "slide_type": "subslide"
    }
   },
   "source": [
    "## Why write functions?"
   ]
  },
  {
   "cell_type": "markdown",
   "metadata": {},
   "source": [
    "* Seperating code into understandable parts\n",
    "* Code reuse - Use your function somewhere else, or give it to your friend to use\n"
   ]
  },
  {
   "cell_type": "markdown",
   "metadata": {
    "slideshow": {
     "slide_type": "-"
    }
   },
   "source": [
    "Someone else might have done the work already. You just have to use their function!"
   ]
  },
  {
   "cell_type": "markdown",
   "metadata": {
    "slideshow": {
     "slide_type": "subslide"
    }
   },
   "source": [
    "## Built-in Functions\n",
    "\n",
    "Python has a lot of functions that are predefined to make your life easier. \n",
    "\n",
    "* `len` - Given a list, return the number of items in it\n",
    "* `round` - Given a number, return the value, but rounded to the nearest integer"
   ]
  },
  {
   "cell_type": "markdown",
   "metadata": {
    "slideshow": {
     "slide_type": "subslide"
    }
   },
   "source": [
    "## How do we know how to use a given function?\n",
    "\n",
    "We need to know what **exactly** the function takes in, and what it gives back (returns)."
   ]
  },
  {
   "cell_type": "markdown",
   "metadata": {
    "slideshow": {
     "slide_type": "fragment"
    }
   },
   "source": [
    "## Help function to the rescue!"
   ]
  },
  {
   "cell_type": "markdown",
   "metadata": {
    "slideshow": {
     "slide_type": "fragment"
    }
   },
   "source": [
    "`help` is itself another function!\n",
    "\n",
    "It takes in a function (name). It gives you back a description of what that does, and possibly examples of how you can use it.\n"
   ]
  },
  {
   "cell_type": "markdown",
   "metadata": {
    "slideshow": {
     "slide_type": "subslide"
    }
   },
   "source": [
    "# Exercise: Look up info on the `range` function. Try to see how it works, then use it to create a list of integers from 5 to 10."
   ]
  },
  {
   "cell_type": "code",
   "execution_count": null,
   "metadata": {
    "collapsed": true
   },
   "outputs": [],
   "source": [
    "help(range)"
   ]
  },
  {
   "cell_type": "markdown",
   "metadata": {
    "slideshow": {
     "slide_type": "subslide"
    }
   },
   "source": [
    "# Remember: You can always use google to search for what you want to know!"
   ]
  },
  {
   "cell_type": "markdown",
   "metadata": {
    "slideshow": {
     "slide_type": "subslide"
    }
   },
   "source": [
    "## Method\n",
    "\n",
    "A function that operates **on** an object."
   ]
  },
  {
   "cell_type": "code",
   "execution_count": null,
   "metadata": {
    "collapsed": true
   },
   "outputs": [],
   "source": [
    "greeting_str = 'Hello {name}!'\n",
    "\n",
    "greeting_str.format(name=\"world\")"
   ]
  },
  {
   "cell_type": "markdown",
   "metadata": {},
   "source": [
    "`greeting_str` - the object (a string)\n",
    "\n",
    "`format` - the method (function that operates on, or does something with, the object to the left)"
   ]
  },
  {
   "cell_type": "code",
   "execution_count": null,
   "metadata": {
    "collapsed": true,
    "slideshow": {
     "slide_type": "subslide"
    }
   },
   "outputs": [],
   "source": [
    "list_var = []\n",
    "\n",
    "list_var.append(3)"
   ]
  },
  {
   "cell_type": "markdown",
   "metadata": {
    "slideshow": {
     "slide_type": "slide"
    }
   },
   "source": [
    "# Modules\n",
    "\n",
    "Combines a bunch of related variables and functions into a package.\n"
   ]
  },
  {
   "cell_type": "markdown",
   "metadata": {
    "slideshow": {
     "slide_type": "fragment"
    }
   },
   "source": [
    "Example: the `math` module - A collection of different math functions and variables:\n",
    "\n",
    "* `abs` - absolute value\n",
    "* `cos`, `sin` - trigonometric functions\n",
    "* `pi` - $\\pi$\n",
    "\n"
   ]
  },
  {
   "cell_type": "markdown",
   "metadata": {
    "slideshow": {
     "slide_type": "subslide"
    }
   },
   "source": [
    "## How to use a module\n",
    "\n",
    "To use them, you have to **import** the package:\n",
    "\n",
    "```python \n",
    "import math```\n"
   ]
  },
  {
   "cell_type": "code",
   "execution_count": null,
   "metadata": {
    "collapsed": true,
    "slideshow": {
     "slide_type": "-"
    }
   },
   "outputs": [],
   "source": []
  },
  {
   "cell_type": "markdown",
   "metadata": {
    "slideshow": {
     "slide_type": "subslide"
    }
   },
   "source": [
    "## Function import\n",
    "\n",
    "Can also import just a select function from a module:"
   ]
  },
  {
   "cell_type": "code",
   "execution_count": null,
   "metadata": {
    "collapsed": true,
    "slideshow": {
     "slide_type": "fragment"
    }
   },
   "outputs": [],
   "source": [
    "from math import cos, pi\n",
    "\n",
    "print cos(pi)\n",
    "\n",
    "print math.cos(math.pi)"
   ]
  },
  {
   "cell_type": "markdown",
   "metadata": {
    "slideshow": {
     "slide_type": "slide"
    }
   },
   "source": [
    "# Good coding style\n",
    "\n",
    "Writing a computer program can be a lot like writing an essay. Good organization and style are *very* important!\n"
   ]
  },
  {
   "cell_type": "markdown",
   "metadata": {
    "slideshow": {
     "slide_type": "fragment"
    }
   },
   "source": [
    "## Question: What do you guys think makes a good essay?\n",
    "\n",
    "What's some advice you've learned from English teachers? \n",
    "\n",
    "Think about style, format, word choice, etc..."
   ]
  },
  {
   "cell_type": "markdown",
   "metadata": {
    "slideshow": {
     "slide_type": "subslide"
    }
   },
   "source": [
    "### Some thoughts on what I think constitutes a good essay:\n"
   ]
  },
  {
   "cell_type": "markdown",
   "metadata": {
    "slideshow": {
     "slide_type": "fragment"
    }
   },
   "source": [
    "* It has an introduction, body, and conclusion."
   ]
  },
  {
   "cell_type": "markdown",
   "metadata": {
    "slideshow": {
     "slide_type": "fragment"
    }
   },
   "source": [
    "* Each paragraph expresses / explains **one** idea coherently, instead of a bunch of random thoughts."
   ]
  },
  {
   "cell_type": "markdown",
   "metadata": {
    "slideshow": {
     "slide_type": "fragment"
    }
   },
   "source": [
    "* Use specific word choices to convey ideas clearly, rather than vague ones, or unnecessarily fancy words."
   ]
  },
  {
   "cell_type": "markdown",
   "metadata": {
    "slideshow": {
     "slide_type": "fragment"
    }
   },
   "source": [
    "* Borrow from other people's ideas to clarify and validate your work (but remember to cite them!)"
   ]
  },
  {
   "cell_type": "markdown",
   "metadata": {
    "slideshow": {
     "slide_type": "subslide"
    }
   },
   "source": [
    "# Good Coding Style \n",
    "\n"
   ]
  },
  {
   "cell_type": "markdown",
   "metadata": {
    "slideshow": {
     "slide_type": "fragment"
    }
   },
   "source": [
    "## Comments\n",
    "\n",
    "If a piece of code could use some clarification, write comments!"
   ]
  },
  {
   "cell_type": "code",
   "execution_count": null,
   "metadata": {
    "collapsed": true,
    "slideshow": {
     "slide_type": "skip"
    }
   },
   "outputs": [],
   "source": [
    "pt_1 = (1,4)\n",
    "pt_2 = (3,5)\n",
    "pt_3 = (1,1)"
   ]
  },
  {
   "cell_type": "code",
   "execution_count": null,
   "metadata": {
    "collapsed": true,
    "slideshow": {
     "slide_type": "fragment"
    }
   },
   "outputs": [],
   "source": [
    "a = (pt_2[1] - pt_1[1]) / (pt_2[0] - pt_1[0])"
   ]
  },
  {
   "cell_type": "markdown",
   "metadata": {
    "slideshow": {
     "slide_type": "fragment"
    }
   },
   "source": [
    "### vs"
   ]
  },
  {
   "cell_type": "code",
   "execution_count": null,
   "metadata": {
    "collapsed": true,
    "slideshow": {
     "slide_type": "fragment"
    }
   },
   "outputs": [],
   "source": [
    "# computes slope from pt_1 & pt_2\n",
    "# formula m = (y2-y1) / (x2-x1)\n",
    "a = (pt_2[1] - pt_1[1]) / (pt_2[0] - pt_1[0])"
   ]
  },
  {
   "cell_type": "markdown",
   "metadata": {
    "slideshow": {
     "slide_type": "subslide"
    }
   },
   "source": [
    "### Comments on functions show other users how it can be used!\n",
    "\n",
    "Comment on function arguments, function return values. What exactly does it take in and what exactly does it return? "
   ]
  },
  {
   "cell_type": "code",
   "execution_count": null,
   "metadata": {
    "collapsed": true,
    "slideshow": {
     "slide_type": "fragment"
    }
   },
   "outputs": [],
   "source": [
    "def my_function(a, b):\n",
    "    \n",
    "    if type(a) in (int, float, long):\n",
    "        return [a] * b\n",
    "    return a * b"
   ]
  },
  {
   "cell_type": "code",
   "execution_count": null,
   "metadata": {
    "collapsed": true,
    "slideshow": {
     "slide_type": "subslide"
    }
   },
   "outputs": [],
   "source": [
    "def my_function(a, b):\n",
    "    \"\"\"\n",
    "    Replicates a number, string, or list a given number of times\n",
    "    \n",
    "    a - a number, string, or list to replicate\n",
    "    b - an integer > 0, for the number of replications\n",
    "    \n",
    "    >>> my_function(2, 3)\n",
    "    222\n",
    "    >>> my_function('a', 5)\n",
    "    'aaaaa'    \n",
    "    \"\"\"\n",
    "    if type(a) in (int, float, long):\n",
    "        return [a] * b\n",
    "    return a * b"
   ]
  },
  {
   "cell_type": "markdown",
   "metadata": {
    "slideshow": {
     "slide_type": "subslide"
    }
   },
   "source": [
    "## Variable names\n",
    "\n",
    "Clear, descriptive variable names are preferable to vague ones.\n",
    "\n",
    "Don't be lazy, and think about how to name!"
   ]
  },
  {
   "cell_type": "code",
   "execution_count": null,
   "metadata": {
    "collapsed": true,
    "slideshow": {
     "slide_type": "fragment"
    }
   },
   "outputs": [],
   "source": [
    "c = {'ap': .99, 'or': 1.29, 'ban': 1.99}\n",
    "\n",
    "c['ap']"
   ]
  },
  {
   "cell_type": "code",
   "execution_count": null,
   "metadata": {
    "collapsed": true,
    "slideshow": {
     "slide_type": "fragment"
    }
   },
   "outputs": [],
   "source": [
    "fruit_costs = {'apple': .99, 'orange': 1.29, 'banana': 1.99}\n",
    "\n",
    "fruit_costs['apple']"
   ]
  },
  {
   "cell_type": "code",
   "execution_count": null,
   "metadata": {
    "collapsed": true,
    "slideshow": {
     "slide_type": "skip"
    }
   },
   "outputs": [],
   "source": [
    "## Functions shouldn't do too much. Do one well defined thing, and do it well.\n",
    "\n"
   ]
  },
  {
   "cell_type": "markdown",
   "metadata": {
    "slideshow": {
     "slide_type": "subslide"
    }
   },
   "source": [
    "## Don't Repeat Yourself\n",
    "\n",
    "If you are writing very similar code multiple times, try to write the code **_once_** as a **function**. Reuse this function instead of rewriting the same code."
   ]
  },
  {
   "cell_type": "code",
   "execution_count": null,
   "metadata": {
    "collapsed": true,
    "slideshow": {
     "slide_type": "fragment"
    }
   },
   "outputs": [],
   "source": [
    "## Compute the sum of some values in several lists\n",
    "\n",
    "number_list_1 = [1, 6, 10, 12, 6, 3]\n",
    "sum_1 = 0\n",
    "for num in number_list_1:\n",
    "    sum_1 += num\n",
    "\n",
    "number_list_2 = [1, 2, 3, 4]\n",
    "sum_2 = 0\n",
    "for num in number_list_2:\n",
    "    sum_2 += num\n",
    "number_list_3 = [10,3,54,2,18]\n",
    "\n",
    "sum_3 = 0\n",
    "for num in number_list_3:\n",
    "    sum_3 += num\n",
    "\n",
    "print sum_1, sum_2, sum_3"
   ]
  },
  {
   "cell_type": "code",
   "execution_count": null,
   "metadata": {
    "collapsed": true,
    "slideshow": {
     "slide_type": "subslide"
    }
   },
   "outputs": [],
   "source": [
    "def sum_of_list(number_list):\n",
    "    list_sum = 0\n",
    "    for num in number_list:\n",
    "        list_sum += num\n",
    "    return list_sum"
   ]
  },
  {
   "cell_type": "code",
   "execution_count": null,
   "metadata": {
    "collapsed": true,
    "slideshow": {
     "slide_type": "subslide"
    }
   },
   "outputs": [],
   "source": [
    "number_list_1 = [1, 6, 10, 12, 6, 3]\n",
    "number_list_2 = [1, 2, 3, 4]\n",
    "number_list_3 = [10,3,54,2,18]\n",
    "\n",
    "sum_1 = sum_of_list(number_list_1)\n",
    "sum_2 = sum_of_list(number_list_2)\n",
    "sum_2 = sum_of_list(number_list_3)\n",
    "\n",
    "print sum_1, sum_2, sum_3"
   ]
  },
  {
   "cell_type": "code",
   "execution_count": null,
   "metadata": {
    "collapsed": true,
    "slideshow": {
     "slide_type": "skip"
    }
   },
   "outputs": [],
   "source": [
    "organizing code, general function case, and computing the specific sums"
   ]
  },
  {
   "cell_type": "markdown",
   "metadata": {
    "slideshow": {
     "slide_type": "slide"
    }
   },
   "source": [
    "# Practice Coding Session \n",
    "\n",
    "* Learn how to use a coding environment\n",
    "* Do Python programming exercises together"
   ]
  },
  {
   "cell_type": "markdown",
   "metadata": {
    "slideshow": {
     "slide_type": "fragment"
    }
   },
   "source": [
    "\n",
    "## ** Interactive Development Environment (IDE)**\n",
    "\n",
    "An IDE is a program that computer programmers use to write, organize, and debugt code.\n"
   ]
  },
  {
   "cell_type": "markdown",
   "metadata": {
    "slideshow": {
     "slide_type": "fragment"
    }
   },
   "source": [
    "Some useful features:\n",
    "* Debugger - Pause your code at specific lines to see what's going on at that time.\n",
    "* Inspector - See all the variables defined in your code and what the values are"
   ]
  },
  {
   "cell_type": "markdown",
   "metadata": {
    "slideshow": {
     "slide_type": "subslide"
    }
   },
   "source": [
    "## Spyder - An IDE for Scientific Computing And Data Analysis\n",
    "\n",
    "<center><img src=\"https://upload.wikimedia.org/wikipedia/commons/7/7e/Spyder_logo.svg\" width=\"30%\"></center> \n",
    "  \n",
    "Open a terminal window.\n",
    "\n",
    "In the prompt, simply type `spyder3`, press enter."
   ]
  },
  {
   "cell_type": "markdown",
   "metadata": {
    "slideshow": {
     "slide_type": "subslide"
    }
   },
   "source": [
    "# Quick Demo of IDE\n"
   ]
  },
  {
   "cell_type": "markdown",
   "metadata": {
    "slideshow": {
     "slide_type": "slide"
    }
   },
   "source": [
    "# Let's write some code! \n",
    "\n",
    "We'll first do a step by step code along. It will apply everything you've learned.\n",
    "\n",
    "\n",
    "Write and run your code in **Spyder**."
   ]
  },
  {
   "cell_type": "markdown",
   "metadata": {
    "slideshow": {
     "slide_type": "fragment"
    }
   },
   "source": [
    "### Feel free to ask questions, help each other out.\n",
    "\n",
    "### If you are ahead of the curve, help your fellow peers out!"
   ]
  },
  {
   "cell_type": "markdown",
   "metadata": {
    "slideshow": {
     "slide_type": "slide"
    }
   },
   "source": [
    "# Coding exercise\n",
    "\n",
    "In this exercise, we will work with temperature values.\n",
    "\n",
    "* Perform temperature conversions (F to C)\n",
    "* Plot the F to C conversion curve\n",
    "* Compute wind chill"
   ]
  },
  {
   "cell_type": "markdown",
   "metadata": {
    "slideshow": {
     "slide_type": "fragment"
    }
   },
   "source": [
    "Recall, we can convert from Farenheit to Celsius using the formula:\n",
    "\n",
    "$$ C = \\frac{5}{9} (F - 32) $$"
   ]
  },
  {
   "cell_type": "markdown",
   "metadata": {
    "slideshow": {
     "slide_type": "subslide"
    }
   },
   "source": [
    "## First, start off by writing code to ask the user for a temperature value, and save the value as a floating point number.\n",
    "\n",
    "\n"
   ]
  },
  {
   "cell_type": "markdown",
   "metadata": {
    "slideshow": {
     "slide_type": "subslide"
    }
   },
   "source": [
    "## Convert the Farenheit value to Celsius, and save this value\n",
    "\n",
    "Recall, we can convert from Farenheit to Celsius using the formula:\n",
    "\n",
    "$$ C = \\frac{5}{9} (F - 32) $$"
   ]
  },
  {
   "cell_type": "markdown",
   "metadata": {
    "slideshow": {
     "slide_type": "subslide"
    }
   },
   "source": [
    "## Write the code you wrote as a function. It should take in a temperature value in Farenheit, and return the corresponding value in Celsius.\n",
    "\n",
    "Use this function to convert the input."
   ]
  },
  {
   "cell_type": "markdown",
   "metadata": {
    "slideshow": {
     "slide_type": "subslide"
    }
   },
   "source": [
    "## We're now going to read some temperature values from a file, and convert those temperature values.\n",
    "\n",
    "How do you do this?\n",
    "\n",
    "- Run an \"open\" function - creates a stream object\n",
    "- Run a \"read\" function on the stream - pulls the file contents into memory"
   ]
  },
  {
   "cell_type": "markdown",
   "metadata": {
    "slideshow": {
     "slide_type": "subslide"
    }
   },
   "source": [
    "## Use the \"`open`\" function to create a stream, and the \"`read`\" function on the resulting stream object to dump all the contents into a string variable. Check the result to see that you have the data."
   ]
  },
  {
   "cell_type": "markdown",
   "metadata": {
    "slideshow": {
     "slide_type": "subslide"
    }
   },
   "source": [
    "## Take values in the string, and create a Python list of the values as floating point numbers. \n",
    "\n",
    "* remove the last endline \"\\n\" character\n",
    "* Split up the string into pieces and put the pieces into a list (hint: what function does this?)\n",
    "* Convert the string entries into float"
   ]
  },
  {
   "cell_type": "code",
   "execution_count": null,
   "metadata": {
    "collapsed": true
   },
   "outputs": [],
   "source": []
  },
  {
   "cell_type": "markdown",
   "metadata": {
    "slideshow": {
     "slide_type": "skip"
    }
   },
   "source": [
    "## We're now going to perform temperature conversions for a range of values given in Farenheit, and plot the results in a graph, Celsius vs. Farenheit."
   ]
  },
  {
   "cell_type": "markdown",
   "metadata": {
    "slideshow": {
     "slide_type": "skip"
    }
   },
   "source": [
    "## Let's now ask the user for two temperature values, $t_{start}$ and $t_{end}$. We will compute a series of temperatures between the two values, at a certain interval, $\\Delta t$, inclusive.\n"
   ]
  },
  {
   "cell_type": "markdown",
   "metadata": {
    "slideshow": {
     "slide_type": "skip"
    }
   },
   "source": [
    "## Ask the user for a $t_{start}$, $t_{end}$,$\\Delta t$. For example, with 0 degrees starting and 10 degrees ending, with  $\\Delta t=2$, we have the following temperature values\n",
    "\n",
    "$$ [0,2,4,6,8,10]$$\n"
   ]
  },
  {
   "cell_type": "markdown",
   "metadata": {
    "slideshow": {
     "slide_type": "skip"
    }
   },
   "source": [
    "## Now, do some error checking. \n",
    "\n",
    "* The two temperatures should be valid numbers, and the first value should be smaller than the second value. \n",
    "* $\\Delta t$ must be greater than 0, and must be smaller than the interval defined by the two temperature values."
   ]
  },
  {
   "cell_type": "markdown",
   "metadata": {
    "slideshow": {
     "slide_type": "skip"
    }
   },
   "source": [
    "## Write a function that, given $t_{start}$, $t_{end}$, $\\Delta t$, computes all the temperature values at each $\\Delta t$, and returns the values as a list.\n",
    "\n",
    "Note: If the computed value doesn't include $t_{end}$, then stop the list when the computed value exceeds $t_{end}$\n",
    "\n",
    "Test the function on some sample values."
   ]
  },
  {
   "cell_type": "markdown",
   "metadata": {
    "slideshow": {
     "slide_type": "subslide"
    }
   },
   "source": [
    "## Write a function that takes in a list of temperature values in Farenheit, and returns a new list of the same temperature values, but in Celsius."
   ]
  },
  {
   "cell_type": "markdown",
   "metadata": {
    "slideshow": {
     "slide_type": "skip"
    }
   },
   "source": [
    "## Remember, these temperatures are in Farenheit (F). Let's compute **all** the corresponding temperatures in Celsius (C), and save this as well.\n",
    "\n"
   ]
  },
  {
   "cell_type": "markdown",
   "metadata": {
    "slideshow": {
     "slide_type": "subslide"
    }
   },
   "source": [
    "## The values from file are in F. Use the functions you wrote earlier to convert the temperature values from F to C.\n"
   ]
  },
  {
   "cell_type": "markdown",
   "metadata": {
    "slideshow": {
     "slide_type": "subslide"
    }
   },
   "source": [
    "## Plot the Celsius values vs Farenheit values using the two lists you generated, using the plot function in the **matplotlib** module.\n",
    "\n",
    "Remember: You need to import a module to use it's functions.\n",
    "\n",
    "```import matplotlib.pyplot as plt```\n",
    "\n",
    "Once you do this, run \n",
    "```python \n",
    "help(plt.plot)\n",
    "```\n",
    "\n",
    "to learn how to use the plot function.\n"
   ]
  },
  {
   "cell_type": "markdown",
   "metadata": {
    "slideshow": {
     "slide_type": "subslide"
    }
   },
   "source": [
    "## Print a temperature conversion table, using the two lists. One column should be the temperature in Farenheit, the other column is temperature in Celsius. \n",
    "\n",
    "Make sure that the values make sense!"
   ]
  },
  {
   "cell_type": "markdown",
   "metadata": {
    "slideshow": {
     "slide_type": "subslide"
    }
   },
   "source": [
    "## Now, let's compute Wind Chill\n",
    "\n",
    "Wind chill - An \"adjusted\" temperature value that accounts for heat loss due to the flow of air over your body.\n",
    "\n",
    "$$T_{chill}=35.74+0.6215*T_a-35.75*V^{0.16}+0.4275*T_a*V^{0.16}$$\n",
    "\n",
    "$V$ - wind velocity, in mi/hr, \n",
    "$T_a$ - actual temperature in Farenheit,\n",
    "$T_a \\le 50$, $V \\ge 3$ "
   ]
  },
  {
   "cell_type": "markdown",
   "metadata": {
    "slideshow": {
     "slide_type": "fragment"
    }
   },
   "source": [
    "## Write a function that computes the wind chill, given a temperature and wind velocity value.\n",
    "\n",
    "Test your function on some values.\n"
   ]
  },
  {
   "cell_type": "markdown",
   "metadata": {
    "slideshow": {
     "slide_type": "skip"
    }
   },
   "source": [
    "## Let's now compute the wind chilld for a range of velocity values. \n"
   ]
  },
  {
   "cell_type": "markdown",
   "metadata": {
    "slideshow": {
     "slide_type": "skip"
    }
   },
   "source": [
    "\n",
    "## Generalize the function you wrote previously that computed a range of temperature values. This function should just compute a range of values given $x_{start}$, $x_{end}$, and $\\Delta x$, regardless of whether they are temperature or velocity values.\n",
    "\n",
    "Change variable and function names, and other computations as appropriate."
   ]
  },
  {
   "cell_type": "markdown",
   "metadata": {
    "slideshow": {
     "slide_type": "skip"
    }
   },
   "source": [
    "## Write a function that takes in $V_{start}$, $V_{end}$, $\\Delta V$, and $T_a$, and computes the wind chill for the given range of temperature values. Use the functions you've wrote previously.\n",
    "\n",
    "Again, test this on some values to see if your results make sense."
   ]
  },
  {
   "cell_type": "markdown",
   "metadata": {},
   "source": [
    "## Using the functions you wrote, compute the wind chill for list of temperature values you read from file."
   ]
  },
  {
   "cell_type": "markdown",
   "metadata": {
    "slideshow": {
     "slide_type": "subslide"
    }
   },
   "source": [
    "## Last one! Let's plot the wind chill curve. Choose appropriate values of $V_{start}$, $V_{end}$, $\\Delta V$, $T_a$. Use the function you just wrote to compute the wind chill for the velocity range, and plot wind chill vs. wind velocity. "
   ]
  },
  {
   "cell_type": "code",
   "execution_count": null,
   "metadata": {
    "collapsed": true,
    "slideshow": {
     "slide_type": "skip"
    }
   },
   "outputs": [],
   "source": [
    "import pandas\n",
    "from tabulate import tabulate\n",
    "\n",
    "print tabulate(pandas.DataFrame.from_items([('A', [1, 2, 3]), ('B', [4, 5, 6])]), tablefmt='orgtbl')"
   ]
  },
  {
   "cell_type": "code",
   "execution_count": null,
   "metadata": {
    "collapsed": true,
    "slideshow": {
     "slide_type": "skip"
    }
   },
   "outputs": [],
   "source": [
    "print \"The temperature in Celcius is: \", ('%.3f' % C)\n",
    "\n",
    "print(\"Temperature: {F} Fahrenheit = {C} Celsius\".format(F= F, C=C))\n",
    "print (F, \"degrees Fahrenheit = \" ,C, \"degrees Celsius.\")"
   ]
  },
  {
   "cell_type": "markdown",
   "metadata": {
    "slideshow": {
     "slide_type": "skip"
    }
   },
   "source": [
    "Rock Paper Scissors Game\n",
    "Hangman\n",
    "Guess the Number\n",
    "Decoding a message with a key."
   ]
  },
  {
   "cell_type": "markdown",
   "metadata": {
    "slideshow": {
     "slide_type": "slide"
    }
   },
   "source": [
    "# Programming Challenges\n",
    "\n",
    "Let's do some more programming exercises"
   ]
  },
  {
   "cell_type": "markdown",
   "metadata": {
    "slideshow": {
     "slide_type": "subslide"
    }
   },
   "source": [
    "# Challenge 1\n",
    "\n",
    "Write a program that asks for a quadratic function, $f(x)= ax^2+bx+c$, and then finds the zeros of it using the quadratic equation. \n"
   ]
  },
  {
   "cell_type": "markdown",
   "metadata": {
    "slideshow": {
     "slide_type": "fragment"
    }
   },
   "source": [
    "Think about:\n",
    "\n",
    "What exact information does the function need to compute the zeros? What should the output be? \n",
    "\n",
    "What should the data types for the input and output be?"
   ]
  },
  {
   "cell_type": "markdown",
   "metadata": {
    "slideshow": {
     "slide_type": "skip"
    }
   },
   "source": [
    "What information do you need to be able to compute the zeros?\n"
   ]
  },
  {
   "cell_type": "markdown",
   "metadata": {
    "slideshow": {
     "slide_type": "fragment"
    }
   },
   "source": [
    "The program should check for special cases. For example, for what situations is there no zero?\n"
   ]
  },
  {
   "cell_type": "markdown",
   "metadata": {
    "slideshow": {
     "slide_type": "fragment"
    }
   },
   "source": [
    "Write at least a part of your code as a function. What should go in the function, and what should not?"
   ]
  },
  {
   "cell_type": "markdown",
   "metadata": {
    "slideshow": {
     "slide_type": "subslide"
    }
   },
   "source": [
    "# Challenge 2\n",
    "\n",
    "Modify your code from challenge 1 to deal to be able to find real **and** complex zeros.\n"
   ]
  },
  {
   "cell_type": "markdown",
   "metadata": {
    "slideshow": {
     "slide_type": "fragment"
    }
   },
   "source": [
    "Think about:\n",
    "\n",
    "What kinds of data structures would help with being able to represent both a real and complex number?"
   ]
  },
  {
   "cell_type": "markdown",
   "metadata": {
    "slideshow": {
     "slide_type": "subslide"
    }
   },
   "source": [
    "# Challenge 3\n",
    "\n",
    "Write a Python program that, given a whole number $n$ greater than 0 and a character symbol, prints a series of lines. The first line sould contain one symbol, the next 2 symbols, all the way to $n$ symbols, and then going in reverse. For example, if $n=5$, and $symbol=A$, the program should print\n",
    "\n",
    "A <br />\n",
    "A A <br />\n",
    "A A A <br />\n",
    "A A A A <br />\n",
    "A A A A A <br />\n",
    "A A A A <br />\n",
    "A A A <br />\n",
    "A A <br />\n",
    "A <br />\n",
    "\n",
    "Write this as a function."
   ]
  },
  {
   "cell_type": "markdown",
   "metadata": {
    "slideshow": {
     "slide_type": "subslide"
    }
   },
   "source": [
    "# Challenge 4\n",
    "\n",
    "Write a program that takes in a string that should represent a password, and determines if the password is strong enough. A strong password here is characterized by:\n",
    "\n",
    "* Containing at least 8 characters, but no more than 12\n",
    "* Containing at least one digit\n",
    "* Containing at least one special character: !, @, #\n",
    "\n",
    "Again, write your code as a function.\n"
   ]
  },
  {
   "cell_type": "markdown",
   "metadata": {
    "collapsed": true,
    "slideshow": {
     "slide_type": "skip"
    }
   },
   "source": [
    "# Challenge 5\n",
    "\n",
    "Write a function that, given a string, counts how many upper letters there are."
   ]
  },
  {
   "cell_type": "markdown",
   "metadata": {
    "slideshow": {
     "slide_type": "skip"
    }
   },
   "source": [
    "# Sorting\n",
    "\n",
    "A common problem when coding is that you have a list (or collection) of values, and you need to sort the values in increasing (or decreasing) order."
   ]
  },
  {
   "cell_type": "markdown",
   "metadata": {},
   "source": [
    "Let's discover some ways that we can do this."
   ]
  },
  {
   "cell_type": "markdown",
   "metadata": {
    "slideshow": {
     "slide_type": "skip"
    }
   },
   "source": [
    "# Functional Programming\n",
    "\n",
    "From a list of numbers, produce a graph. Needs to pass in a list, and a function, and it applies it across all values\n"
   ]
  }
 ],
 "metadata": {
  "anaconda-cloud": {},
  "celltoolbar": "Slideshow",
  "kernelspec": {
   "display_name": "Python [default]",
   "language": "python",
   "name": "python2"
  },
  "language_info": {
   "codemirror_mode": {
    "name": "ipython",
    "version": 2
   },
   "file_extension": ".py",
   "mimetype": "text/x-python",
   "name": "python",
   "nbconvert_exporter": "python",
   "pygments_lexer": "ipython2",
   "version": "2.7.12"
  },
  "nbpresent": {
   "slides": {
    "21c54491-86fe-4c47-bbff-2268105cb38a": {
     "id": "21c54491-86fe-4c47-bbff-2268105cb38a",
     "prev": null,
     "regions": {
      "b75ad06f-bdcf-4346-b63f-6c2e3a4b55b1": {
       "attrs": {
        "height": 0.8,
        "width": 0.45000000000000007,
        "x": 0.5142081583654652,
        "y": 0.09494821035894575
       },
       "id": "b75ad06f-bdcf-4346-b63f-6c2e3a4b55b1"
      },
      "c0b6c630-2588-411f-ab13-2ff8b4e1881f": {
       "attrs": {
        "height": 0.8,
        "width": 0.45000000000000007,
        "x": 0.05,
        "y": 0.1
       },
       "id": "c0b6c630-2588-411f-ab13-2ff8b4e1881f"
      }
     }
    }
   },
   "themes": {}
  }
 },
 "nbformat": 4,
 "nbformat_minor": 1
}
