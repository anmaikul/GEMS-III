{
 "cells": [
  {
   "cell_type": "markdown",
   "metadata": {
    "slideshow": {
     "slide_type": "slide"
    }
   },
   "source": [
    "\n",
    " # <center> Programming Practice in Python</center>\n",
    "\n"
   ]
  },
  {
   "cell_type": "markdown",
   "metadata": {
    "slideshow": {
     "slide_type": "-"
    }
   },
   "source": [
    " ### <center>Summer Institute 2018</center>\n",
    " #### <center>Michael An</center>"
   ]
  },
  {
   "cell_type": "markdown",
   "metadata": {
    "slideshow": {
     "slide_type": "slide"
    }
   },
   "source": [
    "\n",
    "## ** Interactive Development Environment (IDE)**\n",
    "\n",
    "An IDE is a program that computer programmers use to write, organize, and debug code.\n"
   ]
  },
  {
   "cell_type": "markdown",
   "metadata": {
    "slideshow": {
     "slide_type": "fragment"
    }
   },
   "source": [
    "### *Micosoft Word, Google Docs* --> writing text documents"
   ]
  },
  {
   "cell_type": "markdown",
   "metadata": {
    "slideshow": {
     "slide_type": "fragment"
    }
   },
   "source": [
    "### *IDE* --> writing code"
   ]
  },
  {
   "cell_type": "markdown",
   "metadata": {
    "slideshow": {
     "slide_type": "subslide"
    }
   },
   "source": [
    "## Use the best tool for the task\n",
    "\n",
    "### (Do not use a nuclear weapon to kill a fly)"
   ]
  },
  {
   "cell_type": "markdown",
   "metadata": {
    "slideshow": {
     "slide_type": "subslide"
    }
   },
   "source": [
    "## IDE Features\n",
    "* Syntax Completion and highlighting - makes your code easier to read & write\n",
    "* Debugger - Pause your code at specific lines to see what's going on at that time.\n",
    "* Inspector - See all the variables defined in your code and what the values are"
   ]
  },
  {
   "cell_type": "markdown",
   "metadata": {
    "slideshow": {
     "slide_type": "subslide"
    }
   },
   "source": [
    "## Spyder - An IDE for Scientific Computing And Data Analysis\n",
    "\n",
    "<center><img src=\"https://upload.wikimedia.org/wikipedia/commons/7/7e/Spyder_logo.svg\" width=\"30%\"></center> \n",
    "  \n",
    "Open a terminal window.\n",
    "\n",
    "In the prompt, simply type `spyder3`, press enter."
   ]
  },
  {
   "cell_type": "markdown",
   "metadata": {
    "slideshow": {
     "slide_type": "subslide"
    }
   },
   "source": [
    "# Let's test drive the IDE!\n"
   ]
  },
  {
   "cell_type": "markdown",
   "metadata": {
    "slideshow": {
     "slide_type": "subslide"
    }
   },
   "source": [
    "## Test Driven Development\n",
    "\n",
    "* Write code in an incremental way (one feature, then test it throughly)\n",
    "* Write a test that is sure to break\n",
    "* Write real tests that will test all possible cases of the code\n",
    "\n",
    "### Download sample debug code at: https://anmaikul.github.io/GEMS-III/"
   ]
  },
  {
   "cell_type": "markdown",
   "metadata": {
    "slideshow": {
     "slide_type": "slide"
    }
   },
   "source": [
    "# Practice Coding Session \n",
    "\n",
    "* Learn how to use a coding environment\n",
    "* Do Python programming exercises together\n",
    "\n",
    "Write and run your code in **Spyder**."
   ]
  },
  {
   "cell_type": "markdown",
   "metadata": {
    "slideshow": {
     "slide_type": "fragment"
    }
   },
   "source": [
    "### Feel free to ask questions, help each other out.\n",
    "\n",
    "### If you are ahead of the curve, help your fellow peers out!"
   ]
  },
  {
   "cell_type": "markdown",
   "metadata": {
    "slideshow": {
     "slide_type": "slide"
    }
   },
   "source": [
    "# Coding exercise\n",
    "\n",
    "In this exercise, we will work with temperature values.\n",
    "\n",
    "* Perform temperature conversions (F to C)\n",
    "* Plot the F to C conversion curve\n",
    "* Compute wind chill"
   ]
  },
  {
   "cell_type": "markdown",
   "metadata": {
    "slideshow": {
     "slide_type": "fragment"
    }
   },
   "source": [
    "Recall, we can convert from Farenheit to Celsius using the formula:\n",
    "\n",
    "$$ C = \\frac{5}{9} (F - 32) $$"
   ]
  },
  {
   "cell_type": "markdown",
   "metadata": {
    "slideshow": {
     "slide_type": "skip"
    }
   },
   "source": [
    "## First, start off by writing code to ask the user for a temperature value, and save the value as a floating point number.\n",
    "\n",
    "\n"
   ]
  },
  {
   "cell_type": "markdown",
   "metadata": {
    "slideshow": {
     "slide_type": "subslide"
    }
   },
   "source": [
    "## Convert the Farenheit value to Celsius, and save this value\n",
    "\n",
    "Recall, we can convert from Farenheit to Celsius using the formula:\n",
    "\n",
    "$$ C = \\frac{5}{9} (F - 32) $$"
   ]
  },
  {
   "cell_type": "markdown",
   "metadata": {
    "slideshow": {
     "slide_type": "subslide"
    }
   },
   "source": [
    "## Write the code you wrote as a function. It should take in a temperature value in Farenheit, and return the corresponding value in Celsius.\n",
    "\n",
    "Use this function to convert the input."
   ]
  },
  {
   "cell_type": "markdown",
   "metadata": {
    "slideshow": {
     "slide_type": "subslide"
    }
   },
   "source": [
    "## Instead of asking the user, we will use real data. We're now going to read some temperature values from a file, and convert those temperature values.\n",
    "\n",
    "How do you do this?\n",
    "\n",
    "- Run an \"open\" function - creates a stream object\n",
    "- Run a \"read\" function on the stream - pulls the file contents into memory"
   ]
  },
  {
   "cell_type": "markdown",
   "metadata": {
    "slideshow": {
     "slide_type": "subslide"
    }
   },
   "source": [
    "## Use the \"`open`\" function to create a stream, and the \"`read`\" function on the resulting stream object to dump all the contents into a string variable. Check the result to see that you have the data."
   ]
  },
  {
   "cell_type": "markdown",
   "metadata": {
    "slideshow": {
     "slide_type": "subslide"
    }
   },
   "source": [
    "## Take values in the string, and create a Python list of the values as floating point numbers. \n",
    "\n",
    "* remove the last endline \"\\n\" character\n",
    "* Split up the string into pieces and put the pieces into a list (hint: what function does this?)\n",
    "* Convert the string entries into float"
   ]
  },
  {
   "cell_type": "markdown",
   "metadata": {
    "slideshow": {
     "slide_type": "subslide"
    }
   },
   "source": [
    "## Use the function you wrote before, and convert the list of temperatures from F to C."
   ]
  },
  {
   "cell_type": "markdown",
   "metadata": {
    "slideshow": {
     "slide_type": "subslide"
    }
   },
   "source": [
    "## Now, let's compute Wind Chill\n",
    "\n",
    "Wind chill - An \"adjusted\" temperature value that accounts for heat loss due to the flow of air over your body.\n",
    "\n",
    "$$T_{chill}=35.74+0.6215*T_a-35.75*V^{0.16}+0.4275*T_a*V^{0.16}$$\n",
    "\n",
    "$V$ - wind velocity, in mi/hr, \n",
    "$T_a$ - actual temperature in Farenheit,\n",
    "$T_a \\le 50$, $V \\ge 3$ "
   ]
  },
  {
   "cell_type": "markdown",
   "metadata": {
    "slideshow": {
     "slide_type": "fragment"
    }
   },
   "source": [
    "## Write a function that computes the wind chill, given a temperature and wind velocity value.\n",
    "\n",
    "Test your function on some values.\n"
   ]
  },
  {
   "cell_type": "markdown",
   "metadata": {
    "slideshow": {
     "slide_type": "skip"
    }
   },
   "source": [
    "## Let's now compute the wind chilld for a range of velocity values. \n"
   ]
  },
  {
   "cell_type": "markdown",
   "metadata": {
    "slideshow": {
     "slide_type": "skip"
    }
   },
   "source": [
    "\n",
    "## Write a function that computes a range of values between $x_{start}$, $x_{end}$, one value for every step $\\Delta x$.\n",
    "\n"
   ]
  },
  {
   "cell_type": "markdown",
   "metadata": {
    "slideshow": {
     "slide_type": "skip"
    }
   },
   "source": [
    "## Write a function that takes in $V_{start}$, $V_{end}$, $\\Delta V$, and a list of temperature values, and computes the wind chill for every combination of values in the range of velocity values, and temperature list. Use the functions you've wrote previously.\n",
    "\n",
    "Again, test this on some values to see if your results make sense."
   ]
  },
  {
   "cell_type": "markdown",
   "metadata": {},
   "source": [
    "## Using the functions you wrote, compute the wind chill for list of temperature values you read from file."
   ]
  },
  {
   "cell_type": "markdown",
   "metadata": {
    "slideshow": {
     "slide_type": "slide"
    }
   },
   "source": [
    "# Programming Challenges\n",
    "\n",
    "Let's do some more programming exercises"
   ]
  },
  {
   "cell_type": "markdown",
   "metadata": {
    "slideshow": {
     "slide_type": "subslide"
    }
   },
   "source": [
    "# Challenge 1\n",
    "\n",
    "Write a function that takes in the coefficients of $f(x)= ax^2+bx+c$, and then returns the zeros of it. \n"
   ]
  },
  {
   "cell_type": "markdown",
   "metadata": {
    "slideshow": {
     "slide_type": "fragment"
    }
   },
   "source": [
    "* Use the quadratic formula!\n",
    "* How many inputs should there be for this function?\n",
    "* What form should the output be?\n"
   ]
  },
  {
   "cell_type": "markdown",
   "metadata": {
    "slideshow": {
     "slide_type": "skip"
    }
   },
   "source": [
    "What information do you need to be able to compute the zeros?\n"
   ]
  },
  {
   "cell_type": "markdown",
   "metadata": {
    "slideshow": {
     "slide_type": "fragment"
    }
   },
   "source": []
  },
  {
   "cell_type": "markdown",
   "metadata": {
    "slideshow": {
     "slide_type": "fragment"
    }
   },
   "source": []
  },
  {
   "cell_type": "markdown",
   "metadata": {
    "slideshow": {
     "slide_type": "subslide"
    }
   },
   "source": [
    "# Challenge 2\n",
    "\n",
    "Modify your code from challenge 1 to deal to be able to find real **and** complex zeros.\n"
   ]
  },
  {
   "cell_type": "markdown",
   "metadata": {
    "slideshow": {
     "slide_type": "fragment"
    }
   },
   "source": [
    "Think about:\n",
    "\n",
    "What kinds of data structures would help with being able to represent both a real and complex number?"
   ]
  },
  {
   "cell_type": "markdown",
   "metadata": {
    "slideshow": {
     "slide_type": "subslide"
    }
   },
   "source": [
    "# Challenge 3\n",
    "\n",
    "Write a Python program that, given a whole number $n$ greater than 0 and a character symbol, prints a series of lines. The first line sould contain one symbol, the next 2 symbols, all the way to $n$ symbols, and then going in reverse. For example, if $n=5$, and $symbol=A$, the program should print\n",
    "\n",
    "A <br />\n",
    "A A <br />\n",
    "A A A <br />\n",
    "A A A A <br />\n",
    "A A A A A <br />\n",
    "A A A A <br />\n",
    "A A A <br />\n",
    "A A <br />\n",
    "A <br />\n",
    "\n",
    "Write this as a function."
   ]
  },
  {
   "cell_type": "markdown",
   "metadata": {
    "slideshow": {
     "slide_type": "subslide"
    }
   },
   "source": [
    "# Challenge 4\n",
    "\n",
    "Write a program that takes in a string that should represent a password, and determines if the password is strong enough. A strong password here is characterized by:\n",
    "\n",
    "* Containing at least 8 characters, but no more than 12\n",
    "* Containing at least one digit\n",
    "* Containing at least one special character: !, @, #\n",
    "\n",
    "Again, write your code as a function.\n"
   ]
  },
  {
   "cell_type": "markdown",
   "metadata": {
    "collapsed": true,
    "slideshow": {
     "slide_type": "skip"
    }
   },
   "source": [
    "# Challenge 5\n",
    "\n",
    "Write a function that, given a string, counts how many upper letters there are."
   ]
  }
 ],
 "metadata": {
  "anaconda-cloud": {},
  "celltoolbar": "Slideshow",
  "kernelspec": {
   "display_name": "Python [default]",
   "language": "python",
   "name": "python2"
  },
  "language_info": {
   "codemirror_mode": {
    "name": "ipython",
    "version": 2
   },
   "file_extension": ".py",
   "mimetype": "text/x-python",
   "name": "python",
   "nbconvert_exporter": "python",
   "pygments_lexer": "ipython2",
   "version": "2.7.12"
  },
  "nbpresent": {
   "slides": {
    "21c54491-86fe-4c47-bbff-2268105cb38a": {
     "id": "21c54491-86fe-4c47-bbff-2268105cb38a",
     "prev": null,
     "regions": {
      "b75ad06f-bdcf-4346-b63f-6c2e3a4b55b1": {
       "attrs": {
        "height": 0.8,
        "width": 0.45000000000000007,
        "x": 0.5142081583654652,
        "y": 0.09494821035894575
       },
       "id": "b75ad06f-bdcf-4346-b63f-6c2e3a4b55b1"
      },
      "c0b6c630-2588-411f-ab13-2ff8b4e1881f": {
       "attrs": {
        "height": 0.8,
        "width": 0.45000000000000007,
        "x": 0.05,
        "y": 0.1
       },
       "id": "c0b6c630-2588-411f-ab13-2ff8b4e1881f"
      }
     }
    }
   },
   "themes": {}
  }
 },
 "nbformat": 4,
 "nbformat_minor": 1
}
