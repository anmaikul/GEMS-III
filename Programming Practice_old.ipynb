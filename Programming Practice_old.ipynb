{
 "cells": [
  {
   "cell_type": "markdown",
   "metadata": {
    "slideshow": {
     "slide_type": "slide"
    }
   },
   "source": [
    "\n",
    "# Summer Institute: Programming Practice in Python"
   ]
  },
  {
   "cell_type": "code",
   "execution_count": 2,
   "metadata": {
    "slideshow": {
     "slide_type": "skip"
    }
   },
   "outputs": [
    {
     "data": {
      "text/html": [
       "<script>\n",
       "    var code_show=true; //true -> hide code at first\n",
       "\n",
       "    function code_toggle() {\n",
       "        $('div.prompt').hide(); // always hide prompt\n",
       "\n",
       "        if (code_show){\n",
       "            $('div.input').hide();\n",
       "        } else {\n",
       "            $('div.input').show();\n",
       "        }\n",
       "        code_show = !code_show\n",
       "    }\n",
       "    $( document ).ready(code_toggle);\n",
       "</script>\n",
       "\n",
       "<a href=\"javascript:code_toggle()\">[Toggle Code]</a>"
      ],
      "text/plain": [
       "<IPython.core.display.HTML object>"
      ]
     },
     "metadata": {},
     "output_type": "display_data"
    }
   ],
   "source": [
    "%%html\n",
    "<script>\n",
    "    var code_show=true; //true -> hide code at first\n",
    "\n",
    "    function code_toggle() {\n",
    "        $('div.prompt').hide(); // always hide prompt\n",
    "\n",
    "        if (code_show){\n",
    "            $('div.input').hide();\n",
    "        } else {\n",
    "            $('div.input').show();\n",
    "        }\n",
    "        code_show = !code_show\n",
    "    }\n",
    "    $( document ).ready(code_toggle);\n",
    "</script>\n",
    "\n",
    "<a href=\"javascript:code_toggle()\">[Toggle Code]</a>"
   ]
  },
  {
   "cell_type": "markdown",
   "metadata": {
    "slideshow": {
     "slide_type": "slide"
    }
   },
   "source": [
    "## The language - Python\n",
    "\n",
    "<center><img src=\"https://ee5817f8e2e9a2e34042-3365e7f0719651e5b8d0979bce83c558.ssl.cf5.rackcdn.com/python.png\" width=\"200\"></center>\n",
    "\n",
    "A general purpose programming language. Can do many, many things with it:\n",
    "1. Power websites on the server\n",
    "2. Work with data, do calculations, and graph results\n",
    "3. Scripting - automate tasks. For example, read spreadsheets, format the cell entries, and dump it into a nice organized directory structure."
   ]
  },
  {
   "cell_type": "markdown",
   "metadata": {
    "slideshow": {
     "slide_type": "skip"
    }
   },
   "source": [
    "# Before we start, let me introduce Jupyter Notebook\n",
    "\n",
    "<center>![](https://avatars1.githubusercontent.com/u/7388996?v=3&s=400)</center>\n",
    "A web app (like Google Docs) that allows you to write, organize, and run code all in one place. In the browser window.\n",
    "\n",
    "*Similar to what you did with Code Academy.*\n",
    "\n"
   ]
  },
  {
   "cell_type": "markdown",
   "metadata": {
    "slideshow": {
     "slide_type": "skip"
    }
   },
   "source": [
    "# Steps to write and run code:\n",
    "\n",
    "1. Type code in the box\n"
   ]
  },
  {
   "cell_type": "markdown",
   "metadata": {
    "slideshow": {
     "slide_type": "skip"
    }
   },
   "source": [
    "   2. When you are done typing your code, press the run button to run the file. \n",
    "\n",
    "![](images/toolbar.png)\n",
    "\n",
    "\n"
   ]
  },
  {
   "cell_type": "markdown",
   "metadata": {
    "slideshow": {
     "slide_type": "slide"
    }
   },
   "source": [
    "# Quick Review of Programming Basics"
   ]
  },
  {
   "cell_type": "markdown",
   "metadata": {},
   "source": [
    "## What is programming?\n",
    "\n",
    "Human writes a set of instructions --> Computer executes those instructions \n",
    "\n",
    "A programming language defines how you are expected to write these instructions. \n",
    "\n",
    "A specific sequence of keywords, numbers, etc, translates to an exact instruction that the interpreter can process.\n"
   ]
  },
  {
   "cell_type": "markdown",
   "metadata": {
    "slideshow": {
     "slide_type": "subslide"
    }
   },
   "source": [
    "Different ways to express the same idea.\n",
    "\n",
    "## An analogy: human languages\n",
    "\n",
    "I love dogs. \n",
    "\n",
    "I dogs love. (나는 개를 좋아합니다 - Korean characters) \n",
    "\n",
    "## Programming languages\n",
    "\n",
    "`print \"Testing the print statement\"` - *Python*\n",
    "\n",
    "`System.out.println(\"Testing the print statement\")` - *Java*"
   ]
  },
  {
   "cell_type": "markdown",
   "metadata": {
    "slideshow": {
     "slide_type": "slide"
    }
   },
   "source": [
    "# Review of Python Syntax\n",
    "\n"
   ]
  },
  {
   "cell_type": "markdown",
   "metadata": {
    "slideshow": {
     "slide_type": "fragment"
    }
   },
   "source": [
    "## Variables - an ID for a particular piece of data\n",
    "   *Think of it like an address.*\n",
    "   \n",
    "   Your home address is not your actual house, but it identifies where you live. \n",
    "   \n",
    "   A variable identifies a stored value.\n",
    "\n",
    "A variable can hold many types of data."
   ]
  },
  {
   "cell_type": "markdown",
   "metadata": {
    "slideshow": {
     "slide_type": "slide"
    }
   },
   "source": [
    "# Variable Types\n",
    "\n"
   ]
  },
  {
   "cell_type": "markdown",
   "metadata": {
    "slideshow": {
     "slide_type": "fragment"
    }
   },
   "source": [
    "## Numbers\n"
   ]
  },
  {
   "cell_type": "code",
   "execution_count": 2,
   "metadata": {
    "scrolled": false,
    "slideshow": {
     "slide_type": "-"
    }
   },
   "outputs": [
    {
     "name": "stdout",
     "output_type": "stream",
     "text": [
      "15.1\n",
      "20\n"
     ]
    }
   ],
   "source": [
    "price = 15.10\n",
    "print price\n",
    "\n",
    "# change the value of price\n",
    "price = 20\n",
    "print price"
   ]
  },
  {
   "cell_type": "markdown",
   "metadata": {
    "slideshow": {
     "slide_type": "subslide"
    }
   },
   "source": [
    "## You can compute something, and **then** store the result\n",
    "\n"
   ]
  },
  {
   "cell_type": "code",
   "execution_count": 3,
   "metadata": {
    "slideshow": {
     "slide_type": "-"
    }
   },
   "outputs": [
    {
     "name": "stdout",
     "output_type": "stream",
     "text": [
      "11.95\n"
     ]
    }
   ],
   "source": [
    "candy_price = 1.99\n",
    "eggs_price = 2.99\n",
    "\n",
    "total_price = 3*candy_price + 2*eggs_price\n",
    "print total_price"
   ]
  },
  {
   "cell_type": "markdown",
   "metadata": {
    "slideshow": {
     "slide_type": "slide"
    }
   },
   "source": [
    "# Variable Types\n",
    "\n"
   ]
  },
  {
   "cell_type": "markdown",
   "metadata": {
    "slideshow": {
     "slide_type": "fragment"
    }
   },
   "source": [
    "## Strings\n",
    "\n",
    "A sequence of characters. \n",
    "\n",
    "Special characters: `\\t`, `\\n`\n"
   ]
  },
  {
   "cell_type": "code",
   "execution_count": 4,
   "metadata": {},
   "outputs": [
    {
     "name": "stdout",
     "output_type": "stream",
     "text": [
      "This is a 'test'\n"
     ]
    }
   ],
   "source": [
    "sample_string = 'This is a \\'test\\''\n",
    "print sample_string"
   ]
  },
  {
   "cell_type": "markdown",
   "metadata": {
    "slideshow": {
     "slide_type": "subslide"
    }
   },
   "source": [
    "### Multi-line strings"
   ]
  },
  {
   "cell_type": "code",
   "execution_count": 5,
   "metadata": {
    "scrolled": true
   },
   "outputs": [
    {
     "name": "stdout",
     "output_type": "stream",
     "text": [
      "Mike\t An\n",
      "next line\n",
      "and another line\n"
     ]
    }
   ],
   "source": [
    "name = '''Mike\\t An\n",
    "next line\n",
    "and another line'''\n",
    "print name"
   ]
  },
  {
   "cell_type": "markdown",
   "metadata": {
    "slideshow": {
     "slide_type": "subslide"
    }
   },
   "source": [
    "### Can concatenate strings into a new string\n"
   ]
  },
  {
   "cell_type": "code",
   "execution_count": 6,
   "metadata": {
    "slideshow": {
     "slide_type": "fragment"
    }
   },
   "outputs": [
    {
     "name": "stdout",
     "output_type": "stream",
     "text": [
      "Mike An is here!\n"
     ]
    }
   ],
   "source": [
    "\n",
    "last_name = 'An'\n",
    "first_name = 'Mike'\n",
    "name = first_name + ' ' + last_name + ' ' + 'is here!'\n",
    "print name"
   ]
  },
  {
   "cell_type": "markdown",
   "metadata": {
    "collapsed": true,
    "slideshow": {
     "slide_type": "subslide"
    }
   },
   "source": [
    "### Difference between \"10\" and the number 10\n",
    "\n",
    "To us humans, a string \"10\" and the number 10 seems like the same. But, in a programming language, they are different!\n",
    "\n"
   ]
  },
  {
   "cell_type": "code",
   "execution_count": 7,
   "metadata": {},
   "outputs": [
    {
     "ename": "TypeError",
     "evalue": "cannot concatenate 'str' and 'int' objects",
     "output_type": "error",
     "traceback": [
      "\u001b[1;31m---------------------------------------------------------------------------\u001b[0m",
      "\u001b[1;31mTypeError\u001b[0m                                 Traceback (most recent call last)",
      "\u001b[1;32m<ipython-input-7-212f7bbd3901>\u001b[0m in \u001b[0;36m<module>\u001b[1;34m()\u001b[0m\n\u001b[1;32m----> 1\u001b[1;33m \u001b[0mvalue\u001b[0m \u001b[1;33m=\u001b[0m \u001b[1;34m'10'\u001b[0m \u001b[1;33m+\u001b[0m \u001b[1;36m1\u001b[0m\u001b[1;33m\u001b[0m\u001b[0m\n\u001b[0m",
      "\u001b[1;31mTypeError\u001b[0m: cannot concatenate 'str' and 'int' objects"
     ]
    }
   ],
   "source": [
    "value = '10' + 1"
   ]
  },
  {
   "cell_type": "markdown",
   "metadata": {
    "slideshow": {
     "slide_type": "fragment"
    }
   },
   "source": [
    "You're often given numbers as strings. \n",
    "\n",
    "(for example, from a text file, or a spreadsheet)\n",
    "\n",
    "Convert the string to a `float` first, and then use it."
   ]
  },
  {
   "cell_type": "markdown",
   "metadata": {
    "slideshow": {
     "slide_type": "slide"
    }
   },
   "source": [
    "# More Advanced Structures\n",
    "\n",
    "\n",
    "\n"
   ]
  },
  {
   "cell_type": "markdown",
   "metadata": {
    "slideshow": {
     "slide_type": "fragment"
    }
   },
   "source": [
    "## Lists\n",
    "\n",
    "A collection of items.\n",
    "**Ordered** collection."
   ]
  },
  {
   "cell_type": "code",
   "execution_count": null,
   "metadata": {
    "collapsed": true,
    "slideshow": {
     "slide_type": "fragment"
    }
   },
   "outputs": [],
   "source": [
    "my_list = [6,3,5,10,2]\n",
    "print my_list"
   ]
  },
  {
   "cell_type": "code",
   "execution_count": null,
   "metadata": {
    "collapsed": true,
    "slideshow": {
     "slide_type": "fragment"
    }
   },
   "outputs": [],
   "source": [
    "my_list = ['apple', 'orange', 'banana']\n",
    "print my_list\n",
    "\n",
    "print my_list[0]"
   ]
  },
  {
   "cell_type": "markdown",
   "metadata": {
    "slideshow": {
     "slide_type": "slide"
    }
   },
   "source": [
    "## Accessing items in a list\n",
    "\n",
    "\n",
    "Use [ ] with the index number inside.\n",
    "\n",
    "**Important**: Indices start at 0, not 1!\n"
   ]
  },
  {
   "cell_type": "code",
   "execution_count": null,
   "metadata": {
    "collapsed": true
   },
   "outputs": [],
   "source": [
    "my_list = [6,3,5,10,2]\n",
    "\n",
    "print my_list[1]"
   ]
  },
  {
   "cell_type": "markdown",
   "metadata": {
    "slideshow": {
     "slide_type": "slide"
    }
   },
   "source": [
    "# More Advanced Structures\n",
    "\n",
    "## Dictionary\n",
    "\n",
    "A collection with (key, value) pairs.\n",
    "\n",
    "Useful for quickly looking things up in a collection based on more interesting identifiers, rather than numbers."
   ]
  },
  {
   "cell_type": "code",
   "execution_count": null,
   "metadata": {
    "collapsed": true,
    "slideshow": {
     "slide_type": "fragment"
    }
   },
   "outputs": [],
   "source": [
    "fruit_costs = {'apple': .99, 'orange': 1.29, 'banana': 1.99}\n",
    "\n",
    "fruit_costs['apple']"
   ]
  },
  {
   "cell_type": "code",
   "execution_count": null,
   "metadata": {
    "collapsed": true,
    "slideshow": {
     "slide_type": "fragment"
    }
   },
   "outputs": [],
   "source": [
    "customer_info = {\n",
    "    '140320': {'email': 'mike@email.com', 'name': 'Michael An', 'address': '12345 Paradise Road, Los Angeles, CA'},\n",
    "    '204950': {'email': 'mary@yahoo.com', 'name': 'Mary Smith', 'address': '45 Main St, New York, NY'}\n",
    "}\n",
    "\n",
    "print customer_info"
   ]
  },
  {
   "cell_type": "markdown",
   "metadata": {
    "slideshow": {
     "slide_type": "skip"
    }
   },
   "source": [
    "## Tuple"
   ]
  },
  {
   "cell_type": "markdown",
   "metadata": {
    "slideshow": {
     "slide_type": "skip"
    }
   },
   "source": [
    "Maybe: \n",
    "\n",
    "## Quiz: What's the best structure to use, list, dictionary, or tuple?"
   ]
  },
  {
   "cell_type": "markdown",
   "metadata": {
    "slideshow": {
     "slide_type": "slide"
    }
   },
   "source": [
    "# Functions\n",
    "\n",
    "A function is a unit of code that **takes in** some values, uses it to compute / run some instructions, and (often) **gives back a result**.\n",
    "\n",
    "First, Let's look at a math function:\n",
    "\n",
    "$$ f(x) = x^2 $$\n",
    "\n",
    "**Given** a value $x$, we compute the expression on the right using $x$, and the result is $f(x)$.\n",
    "\n",
    "\n",
    "\n"
   ]
  },
  {
   "cell_type": "markdown",
   "metadata": {
    "slideshow": {
     "slide_type": "fragment"
    }
   },
   "source": [
    "### A Python function:"
   ]
  },
  {
   "cell_type": "code",
   "execution_count": null,
   "metadata": {
    "collapsed": true,
    "slideshow": {
     "slide_type": "fragment"
    }
   },
   "outputs": [],
   "source": [
    "def x_squared(x):\n",
    "    result = x**2\n",
    "    return result"
   ]
  },
  {
   "cell_type": "markdown",
   "metadata": {
    "slideshow": {
     "slide_type": "subslide"
    }
   },
   "source": [
    "## Important parts of a function:"
   ]
  },
  {
   "cell_type": "markdown",
   "metadata": {
    "slideshow": {
     "slide_type": "fragment"
    }
   },
   "source": [
    "```python\n",
    "def x_squared(x):\n",
    "```\n",
    "\n",
    "* `def` tells Python that are you **def**ining a function\n",
    "* `x_squared` is the name of the function\n",
    "* (   ) is the arguments (what the function takes in)"
   ]
  },
  {
   "cell_type": "markdown",
   "metadata": {
    "slideshow": {
     "slide_type": "fragment"
    }
   },
   "source": [
    "```python\n",
    "return result\n",
    "```\n",
    "\n",
    "The function will give back the result\n"
   ]
  },
  {
   "cell_type": "markdown",
   "metadata": {
    "slideshow": {
     "slide_type": "subslide"
    }
   },
   "source": [
    "Note: Unlike in math, in most programming languages, a function does not *have* to return a result. It can just take a value, and do something with it.\n",
    "\n",
    "A function doesn't have to be related to a math calculation. "
   ]
  },
  {
   "cell_type": "markdown",
   "metadata": {
    "slideshow": {
     "slide_type": "subslide"
    }
   },
   "source": [
    "### Calling a function\n",
    "\n",
    "We defined a function, but, we have to *call* the function to run the code.\n",
    "\n",
    "You call a function by **passing in** values, the $x$."
   ]
  },
  {
   "cell_type": "code",
   "execution_count": null,
   "metadata": {
    "collapsed": true,
    "slideshow": {
     "slide_type": "fragment"
    }
   },
   "outputs": [],
   "source": [
    "print x_squared(2)"
   ]
  },
  {
   "cell_type": "markdown",
   "metadata": {
    "slideshow": {
     "slide_type": "subslide"
    }
   },
   "source": [
    "## Why write functions?\n",
    "\n",
    "* Seperating code into understandable parts\n",
    "* Code reuse - Use your function somewhere else, or give it to your friend to use \n"
   ]
  },
  {
   "cell_type": "markdown",
   "metadata": {
    "slideshow": {
     "slide_type": "subslide"
    }
   },
   "source": [
    "## Built-in Functions\n",
    "\n",
    "Python has a lot of functions that are predefined to make your life easier. \n",
    "\n",
    "`len` - Given a list, return the number of items in it\n",
    "`round` - Given a number, return the value, but rounded to the nearest integer"
   ]
  },
  {
   "cell_type": "markdown",
   "metadata": {
    "slideshow": {
     "slide_type": "fragment"
    }
   },
   "source": [
    "# Help function\n",
    "\n",
    "```help(len)```\n",
    "\n"
   ]
  },
  {
   "cell_type": "markdown",
   "metadata": {
    "slideshow": {
     "slide_type": "subslide"
    }
   },
   "source": [
    "# Exercise: Look up info on the `range` function. Try to see how it works, then use it to create a list of integers from 5 to 10."
   ]
  },
  {
   "cell_type": "markdown",
   "metadata": {
    "slideshow": {
     "slide_type": "slide"
    }
   },
   "source": [
    "# Modules\n",
    "\n",
    "Combine a bunch of related variables and functions into a package.\n"
   ]
  },
  {
   "cell_type": "markdown",
   "metadata": {
    "slideshow": {
     "slide_type": "fragment"
    }
   },
   "source": [
    "Example: the `math` module - A collection of different math functions and variables:\n",
    "\n",
    "* `abs` - absolute value\n",
    "* `cos`, `sin` - trigonometric functions\n",
    "* `pi` - $\\pi$\n",
    "\n"
   ]
  },
  {
   "cell_type": "markdown",
   "metadata": {
    "slideshow": {
     "slide_type": "subslide"
    }
   },
   "source": [
    "## How to use a module\n",
    "\n",
    "To use them, you have to **import** the package:\n",
    "\n",
    "```python \n",
    "import math```\n"
   ]
  },
  {
   "cell_type": "code",
   "execution_count": null,
   "metadata": {
    "collapsed": true,
    "slideshow": {
     "slide_type": "fragment"
    }
   },
   "outputs": [],
   "source": [
    "import math\n",
    "math.cos(0)"
   ]
  },
  {
   "cell_type": "markdown",
   "metadata": {
    "slideshow": {
     "slide_type": "subslide"
    }
   },
   "source": [
    "## Function import\n",
    "\n",
    "Can also import just a select function from a module:"
   ]
  },
  {
   "cell_type": "code",
   "execution_count": null,
   "metadata": {
    "collapsed": true,
    "slideshow": {
     "slide_type": "fragment"
    }
   },
   "outputs": [],
   "source": [
    "from math import cos, pi\n",
    "\n",
    "print cos(pi)\n",
    "\n",
    "print math.cos(math.pi)"
   ]
  },
  {
   "cell_type": "markdown",
   "metadata": {
    "slideshow": {
     "slide_type": "skip"
    }
   },
   "source": [
    "\n",
    "\n",
    "Example function: range"
   ]
  },
  {
   "cell_type": "markdown",
   "metadata": {
    "slideshow": {
     "slide_type": "slide"
    }
   },
   "source": [
    "# Good coding style\n",
    "\n"
   ]
  },
  {
   "cell_type": "markdown",
   "metadata": {
    "slideshow": {
     "slide_type": "fragment"
    }
   },
   "source": [
    "## Comments\n",
    "\n",
    "If a piece of code could use some clarification, write comments!"
   ]
  },
  {
   "cell_type": "code",
   "execution_count": null,
   "metadata": {
    "collapsed": true,
    "slideshow": {
     "slide_type": "skip"
    }
   },
   "outputs": [],
   "source": [
    "pt_1 = (1,4)\n",
    "pt_2 = (3,5)\n",
    "pt_3 = (1,1)"
   ]
  },
  {
   "cell_type": "code",
   "execution_count": null,
   "metadata": {
    "collapsed": true,
    "slideshow": {
     "slide_type": "fragment"
    }
   },
   "outputs": [],
   "source": [
    "m = (pt_2[1] - pt_1[1]) / (pt_2[0] - pt_1[0])"
   ]
  },
  {
   "cell_type": "code",
   "execution_count": null,
   "metadata": {
    "collapsed": true
   },
   "outputs": [],
   "source": [
    "# computes slope from pt_1 & pt_2\n",
    "# formula m = (y2-y1)/(x2-x1)\n",
    "m = (pt_2[1] - pt_1[1]) / (pt_3[0] - pt_1[0])"
   ]
  },
  {
   "cell_type": "markdown",
   "metadata": {
    "slideshow": {
     "slide_type": "subslide"
    }
   },
   "source": [
    "### Comments on functions show other users how it can be used!\n",
    "\n",
    "Comment on function arguments, function return values. What exactly does it take in and what exactly does it return? "
   ]
  },
  {
   "cell_type": "code",
   "execution_count": null,
   "metadata": {
    "collapsed": true,
    "slideshow": {
     "slide_type": "fragment"
    }
   },
   "outputs": [],
   "source": [
    "def my_function(a, b):\n",
    "    \"\"\"\n",
    "    >>> my_function(2, 3)\n",
    "    6\n",
    "    >>> my_function('a', 3)\n",
    "    'aaa'\n",
    "    \n",
    "    a - a number, string, or array\n",
    "    b - an integer > 0\n",
    "    \"\"\"\n",
    "    \n",
    "    return a * b\n",
    "\n",
    "my_function([1, 2, 4], 3)"
   ]
  },
  {
   "cell_type": "markdown",
   "metadata": {
    "slideshow": {
     "slide_type": "subslide"
    }
   },
   "source": [
    "## Variable names\n",
    "\n",
    "Clear, descriptive variable names are preferable to vague ones.\n",
    "\n",
    "Don't be lazy, and think about how to name!"
   ]
  },
  {
   "cell_type": "code",
   "execution_count": null,
   "metadata": {
    "collapsed": true,
    "slideshow": {
     "slide_type": "fragment"
    }
   },
   "outputs": [],
   "source": [
    "c = {'ap': .99, 'or': 1.29, 'ban': 1.99}\n",
    "\n",
    "c['ap']"
   ]
  },
  {
   "cell_type": "code",
   "execution_count": null,
   "metadata": {
    "collapsed": true,
    "slideshow": {
     "slide_type": "fragment"
    }
   },
   "outputs": [],
   "source": [
    "fruit_costs = {'apple': .99, 'orange': 1.29, 'banana': 1.99}\n",
    "\n",
    "fruit_costs['apple']"
   ]
  },
  {
   "cell_type": "code",
   "execution_count": null,
   "metadata": {
    "collapsed": true,
    "slideshow": {
     "slide_type": "skip"
    }
   },
   "outputs": [],
   "source": [
    "## Functions shouldn't do too much. Do one well defined thing, and do it well.\n",
    "\n"
   ]
  },
  {
   "cell_type": "markdown",
   "metadata": {
    "slideshow": {
     "slide_type": "skip"
    }
   },
   "source": [
    "## Don't Repeat Yourself\n",
    "\n",
    "If you are writing very similar code multiple times, try to write the code *once* as a function. Reuse this function instead of rewriting the same code."
   ]
  },
  {
   "cell_type": "code",
   "execution_count": null,
   "metadata": {
    "collapsed": true,
    "slideshow": {
     "slide_type": "skip"
    }
   },
   "outputs": [],
   "source": [
    "number_list_1 = [1, 6, 10, 12, 6, 3]\n",
    "\n",
    "sum_1 = 0\n",
    "for num in number_list_1:\n",
    "    sum_1 += num\n",
    "\n",
    "number_list_2 = [1, 2, 3, 4]\n",
    "\n",
    "sum_2 = 0\n",
    "for num in number_list_1:\n",
    "    sum_2 += num\n",
    "\n",
    "print sum_1, sum_2"
   ]
  },
  {
   "cell_type": "code",
   "execution_count": null,
   "metadata": {
    "collapsed": true,
    "slideshow": {
     "slide_type": "skip"
    }
   },
   "outputs": [],
   "source": [
    "number_list_1 = [1, 6, 10, 12, 6, 3]\n",
    "number_list_2 = [1, 2, 3, 4]\n",
    "\n",
    "def sum_of_list(number_list):\n",
    "    list_sum = 0\n",
    "    for num in number_list:\n",
    "        list_sum += num\n",
    "    return list_sum\n",
    "\n",
    "\n",
    "sum_1 = sum_of_list(number_list_1)\n",
    "sum_2 = sum_of_list(number_list_2)\n",
    "\n",
    "print sum_1, sum_2"
   ]
  },
  {
   "cell_type": "code",
   "execution_count": null,
   "metadata": {
    "collapsed": true,
    "slideshow": {
     "slide_type": "notes"
    }
   },
   "outputs": [],
   "source": [
    "from IPython.display import HTML, Javascript, display\n",
    "\n",
    "js = open('chalkboard.js').read()\n",
    "display(Javascript(js))"
   ]
  },
  {
   "cell_type": "markdown",
   "metadata": {
    "slideshow": {
     "slide_type": "slide"
    }
   },
   "source": [
    "# Practice Coding Session \n",
    "\n"
   ]
  },
  {
   "cell_type": "markdown",
   "metadata": {
    "slideshow": {
     "slide_type": "fragment"
    }
   },
   "source": [
    "\n",
    "## ** Interactive Development Environment (IDE)**\n",
    "\n",
    "An IDE is a program that computer programmers use to write, organize, and debugt code.\n",
    "\n"
   ]
  },
  {
   "cell_type": "markdown",
   "metadata": {
    "slideshow": {
     "slide_type": "subslide"
    }
   },
   "source": [
    "Some useful features:\n",
    "* Debugger - Pause your code at specific lines to see what's going on at that time.\n",
    "* Inspector - See all the variables defined in your code and what the values are"
   ]
  },
  {
   "cell_type": "markdown",
   "metadata": {
    "slideshow": {
     "slide_type": "subslide"
    }
   },
   "source": [
    "## Spyder - An IDE for Scientific Computing And Data Analysis\n",
    "\n",
    "<center><img src=\"https://upload.wikimedia.org/wikipedia/commons/7/7e/Spyder_logo.svg\" width=\"30%\"></center> \n",
    "  \n",
    "Open a terminal window.\n",
    "\n",
    "In the prompt, simply type `spyder`, press enter.\n"
   ]
  },
  {
   "cell_type": "markdown",
   "metadata": {
    "slideshow": {
     "slide_type": "subslide"
    }
   },
   "source": [
    "## Quick Demo of IDE"
   ]
  },
  {
   "cell_type": "markdown",
   "metadata": {
    "slideshow": {
     "slide_type": "slide"
    }
   },
   "source": [
    "# Coding exercise\n",
    "\n",
    "In this exercise, we will write a program that does temperature conversions.\n",
    "\n",
    "For example, we can convert from Farenheit to Celsius using the formula:\n",
    "\n",
    "$$ C = \\frac{5}{9} (F - 32) $$"
   ]
  },
  {
   "cell_type": "markdown",
   "metadata": {
    "slideshow": {
     "slide_type": "subslide"
    }
   },
   "source": [
    "## First, start off by writing code to ask the user for a temperature value, and save the value as a floating point number.\n",
    "\n",
    "\n"
   ]
  },
  {
   "cell_type": "code",
   "execution_count": null,
   "metadata": {
    "collapsed": true,
    "slideshow": {
     "slide_type": "fragment"
    }
   },
   "outputs": [],
   "source": [
    "F = float(input(\"Input the temperature in degrees Farenheit:\"))\n",
    "\n",
    "print F"
   ]
  },
  {
   "cell_type": "markdown",
   "metadata": {
    "slideshow": {
     "slide_type": "subslide"
    }
   },
   "source": [
    "## Convert the Farenheit value to Celsius, and save this value"
   ]
  },
  {
   "cell_type": "code",
   "execution_count": null,
   "metadata": {
    "collapsed": true,
    "slideshow": {
     "slide_type": "fragment"
    }
   },
   "outputs": [],
   "source": [
    "C = (F-32.0)*(5.0/9.0)\n",
    "print C"
   ]
  },
  {
   "cell_type": "markdown",
   "metadata": {
    "slideshow": {
     "slide_type": "subslide"
    }
   },
   "source": [
    "## Write the code you wrote as a function. It should take in a temperature value in Farenheit, and give back the corresponding value in Celsius."
   ]
  },
  {
   "cell_type": "markdown",
   "metadata": {
    "slideshow": {
     "slide_type": "subslide"
    }
   },
   "source": [
    "## Build in some error checking. Check that the input is a valid number, and prompt until you get something valid. \n"
   ]
  },
  {
   "cell_type": "markdown",
   "metadata": {
    "slideshow": {
     "slide_type": "subslide"
    }
   },
   "source": [
    "## Let's now ask the user for two temperature values. We will compute a series of temperatures between the two values, at a certain interval, $\\Delta t$, inclusive.\n"
   ]
  },
  {
   "cell_type": "markdown",
   "metadata": {
    "slideshow": {
     "slide_type": "subslide"
    }
   },
   "source": [
    "## Ask the user for a $\\Delta t$. For example, with 0 degrees starting and 10 degrees ending, with  $\\Delta t=2$, we have the following temperature values\n",
    "\n",
    "$$ [0,2,4,6,8,10]$$\n",
    "\n"
   ]
  },
  {
   "cell_type": "markdown",
   "metadata": {
    "slideshow": {
     "slide_type": "subslide"
    }
   },
   "source": [
    "## Now, do some error checking. \n",
    "\n",
    "* The two temperatures should be valid numbers, and the first value should be smaller than the second value. \n",
    "* $\\Delta t$ must be greater than 0, and must be smaller than the interval defined by the two temperature values."
   ]
  },
  {
   "cell_type": "markdown",
   "metadata": {
    "slideshow": {
     "slide_type": "subslide"
    }
   },
   "source": [
    "## Compute all the temperature values at each $\\Delta t$, and save it in a list.\n",
    "\n"
   ]
  },
  {
   "cell_type": "markdown",
   "metadata": {
    "slideshow": {
     "slide_type": "subslide"
    }
   },
   "source": [
    "## Remember, these temperatures are in Farenheit. Let's compute **all** the corresponding temperatures in Celsius, and save this as well."
   ]
  },
  {
   "cell_type": "markdown",
   "metadata": {
    "slideshow": {
     "slide_type": "subslide"
    }
   },
   "source": [
    "## Plot the Celsius values vs Farenheit values, using the plot function in the **matplotlib** module.\n",
    "\n",
    "Remember: You need to import a module to use it's functions.\n",
    "\n",
    "Use \n",
    "```python \n",
    "help(matplotlib.plot)\n",
    "```\n",
    "\n",
    "to learn how to use the plot function.\n"
   ]
  },
  {
   "cell_type": "markdown",
   "metadata": {
    "slideshow": {
     "slide_type": "subslide"
    }
   },
   "source": [
    "## Print this to a table, by using the tabulate function in the **tabulate** module.\n",
    "\n",
    "Again, find out how this function is used. What options are avaiable? Call the functions with the right arguments and options to get a nice, pretty table"
   ]
  },
  {
   "cell_type": "code",
   "execution_count": null,
   "metadata": {
    "collapsed": true,
    "slideshow": {
     "slide_type": "fragment"
    }
   },
   "outputs": [],
   "source": [
    "import pandas\n",
    "from tabulate import tabulate\n",
    "\n",
    "print tabulate(pandas.DataFrame.from_items([('A', [1, 2, 3]), ('B', [4, 5, 6])]), tablefmt='orgtbl')"
   ]
  },
  {
   "cell_type": "code",
   "execution_count": null,
   "metadata": {
    "collapsed": true,
    "slideshow": {
     "slide_type": "skip"
    }
   },
   "outputs": [],
   "source": [
    "print \"The temperature in Celcius is: \", ('%.3f' % C)\n",
    "\n",
    "print(\"Temperature: {F} Fahrenheit = {C} Celsius\".format(F= F, C=C))\n",
    "print (F, \"degrees Fahrenheit = \" ,C, \"degrees Celsius.\")"
   ]
  },
  {
   "cell_type": "markdown",
   "metadata": {
    "slideshow": {
     "slide_type": "skip"
    }
   },
   "source": [
    "Rock Paper Scissors Game\n",
    "Hangman\n",
    "Guess the Number\n",
    "Decoding a message with a key."
   ]
  },
  {
   "cell_type": "markdown",
   "metadata": {
    "slideshow": {
     "slide_type": "slide"
    }
   },
   "source": [
    "# Programming Challenges\n",
    "\n",
    "Let's do some more programming exercises"
   ]
  },
  {
   "cell_type": "markdown",
   "metadata": {
    "slideshow": {
     "slide_type": "slide"
    }
   },
   "source": [
    "# Challenge 1\n",
    "\n",
    "Write a program that asks for a quadratic function, $f(x)= ax^2+bx+c$, and then finds the zeros of it using the quadratic equation. \n"
   ]
  },
  {
   "cell_type": "markdown",
   "metadata": {
    "slideshow": {
     "slide_type": "fragment"
    }
   },
   "source": [
    "Think about:\n",
    "\n",
    "* What are the exact inputs? Outputs?\n",
    "* What are the input / output data types (float, dict)?\n",
    "\n"
   ]
  },
  {
   "cell_type": "markdown",
   "metadata": {
    "slideshow": {
     "slide_type": "fragment"
    }
   },
   "source": [
    "The program should check for special cases. For example, for what situations is there no zero?\n"
   ]
  },
  {
   "cell_type": "markdown",
   "metadata": {
    "slideshow": {
     "slide_type": "fragment"
    }
   },
   "source": [
    "Write at least a part of your code as a function. What should go in the function, and what should not?"
   ]
  },
  {
   "cell_type": "markdown",
   "metadata": {
    "slideshow": {
     "slide_type": "slide"
    }
   },
   "source": [
    "# Challenge 2\n",
    "\n",
    "Modify your code from challenge 1 to deal to be able to find real **and** complex zeros.\n"
   ]
  },
  {
   "cell_type": "markdown",
   "metadata": {
    "slideshow": {
     "slide_type": "fragment"
    }
   },
   "source": [
    "Think about:\n",
    "\n",
    "What kinds of data structures would help with being able to represent both a real and complex number?"
   ]
  },
  {
   "cell_type": "markdown",
   "metadata": {
    "slideshow": {
     "slide_type": "slide"
    }
   },
   "source": [
    "# Challenge 3\n",
    "\n",
    "Write a Python program that, given a whole number $n$ greater than 0 and a symbol, prints a series of lines. The first line sould contain one symbol, the next 2 symbols, all the way to $n$ symbols, and then going in reverse. For example, if $n=5$, and $symbol=A$, the program should print\n",
    "\n",
    "A\n",
    "\n",
    "A A\n",
    "\n",
    "A A A\n",
    "\n",
    "A A A A\n",
    "\n",
    "A A A A A\n",
    "\n",
    "A A A A\n",
    "\n",
    "A A A\n",
    "\n",
    "A A\n",
    "\n",
    "A\n",
    "\n",
    "Write this as a function."
   ]
  },
  {
   "cell_type": "markdown",
   "metadata": {
    "slideshow": {
     "slide_type": "slide"
    }
   },
   "source": [
    "# Challenge 4\n",
    "\n",
    "Write a program that takes in a string that should represent a password, and determines if the password is strong enough. A strong password here is characterized by:\n",
    "\n",
    "* Containing at least 8 characters, but no more than 12\n",
    "* Containing at least one digit\n",
    "* Containing at least one special character: !, @, #\n",
    "\n",
    "Again, write your code as a function.\n"
   ]
  },
  {
   "cell_type": "markdown",
   "metadata": {
    "collapsed": true,
    "slideshow": {
     "slide_type": "skip"
    }
   },
   "source": [
    "# Challenge 5\n",
    "\n",
    "Write a function that counts how many upper and lower case letters there are in a string.\n",
    "\n",
    "Program to find the frequency of words in a string."
   ]
  },
  {
   "cell_type": "markdown",
   "metadata": {
    "slideshow": {
     "slide_type": "skip"
    }
   },
   "source": [
    "# Sorting"
   ]
  },
  {
   "cell_type": "code",
   "execution_count": null,
   "metadata": {
    "collapsed": true,
    "scrolled": true,
    "slideshow": {
     "slide_type": "slide"
    }
   },
   "outputs": [],
   "source": [
    "from IPython.display import HTML, Javascript, display\n",
    "\n",
    "js = open('chalkboard.js').read()\n",
    "display(Javascript(js))"
   ]
  },
  {
   "cell_type": "markdown",
   "metadata": {
    "slideshow": {
     "slide_type": "skip"
    }
   },
   "source": [
    "# Functional Programming\n",
    "\n",
    "From a list of numbers, produce a graph. Needs to pass in a list, and a function, and it applies it across all values\n"
   ]
  },
  {
   "cell_type": "code",
   "execution_count": 3,
   "metadata": {
    "slideshow": {
     "slide_type": "skip"
    }
   },
   "outputs": [
    {
     "name": "stdout",
     "output_type": "stream",
     "text": [
      "こんにちは  Mike\n",
      "Здравствуйте  Mike\n"
     ]
    }
   ],
   "source": [
    "#Unicode stuff? \n",
    "print u'こんにちは', u' Mike'\n",
    "print u'Здравствуйте', u' Mike'"
   ]
  },
  {
   "cell_type": "code",
   "execution_count": null,
   "metadata": {
    "collapsed": true
   },
   "outputs": [],
   "source": []
  }
 ],
 "metadata": {
  "anaconda-cloud": {},
  "celltoolbar": "Slideshow",
  "kernelspec": {
   "display_name": "Python [default]",
   "language": "python",
   "name": "python2"
  },
  "language_info": {
   "codemirror_mode": {
    "name": "ipython",
    "version": 2
   },
   "file_extension": ".py",
   "mimetype": "text/x-python",
   "name": "python",
   "nbconvert_exporter": "python",
   "pygments_lexer": "ipython2",
   "version": "2.7.12"
  },
  "nbpresent": {
   "slides": {
    "21c54491-86fe-4c47-bbff-2268105cb38a": {
     "id": "21c54491-86fe-4c47-bbff-2268105cb38a",
     "prev": null,
     "regions": {
      "b75ad06f-bdcf-4346-b63f-6c2e3a4b55b1": {
       "attrs": {
        "height": 0.8,
        "width": 0.45000000000000007,
        "x": 0.5142081583654652,
        "y": 0.09494821035894575
       },
       "id": "b75ad06f-bdcf-4346-b63f-6c2e3a4b55b1"
      },
      "c0b6c630-2588-411f-ab13-2ff8b4e1881f": {
       "attrs": {
        "height": 0.8,
        "width": 0.45000000000000007,
        "x": 0.05,
        "y": 0.1
       },
       "id": "c0b6c630-2588-411f-ab13-2ff8b4e1881f"
      }
     }
    }
   },
   "themes": {}
  }
 },
 "nbformat": 4,
 "nbformat_minor": 1
}
